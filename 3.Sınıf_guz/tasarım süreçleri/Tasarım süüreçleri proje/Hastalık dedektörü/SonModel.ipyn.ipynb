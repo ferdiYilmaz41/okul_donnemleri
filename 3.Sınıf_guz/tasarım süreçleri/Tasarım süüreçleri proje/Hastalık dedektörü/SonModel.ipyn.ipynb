{
 "cells": [
  {
   "cell_type": "code",
   "execution_count": 5,
   "id": "b19580e6",
   "metadata": {
    "collapsed": true
   },
   "outputs": [
    {
     "name": "stdout",
     "output_type": "stream",
     "text": [
      "Requirement already satisfied: tensorflow in c:\\users\\ferdi\\anaconda3\\envs\\ev2\\lib\\site-packages (2.3.0)Note: you may need to restart the kernel to use updated packages.\n",
      "\n",
      "Requirement already satisfied: tensorboard<3,>=2.3.0 in c:\\users\\ferdi\\anaconda3\\envs\\ev2\\lib\\site-packages (from tensorflow) (2.10.0)\n",
      "Requirement already satisfied: termcolor>=1.1.0 in c:\\users\\ferdi\\anaconda3\\envs\\ev2\\lib\\site-packages (from tensorflow) (2.1.0)\n",
      "Requirement already satisfied: grpcio>=1.8.6 in c:\\users\\ferdi\\anaconda3\\envs\\ev2\\lib\\site-packages (from tensorflow) (1.42.0)\n",
      "Requirement already satisfied: gast==0.3.3 in c:\\users\\ferdi\\anaconda3\\envs\\ev2\\lib\\site-packages (from tensorflow) (0.3.3)\n",
      "Requirement already satisfied: six>=1.12.0 in c:\\users\\ferdi\\anaconda3\\envs\\ev2\\lib\\site-packages (from tensorflow) (1.16.0)\n",
      "Requirement already satisfied: google-pasta>=0.1.8 in c:\\users\\ferdi\\anaconda3\\envs\\ev2\\lib\\site-packages (from tensorflow) (0.2.0)\n",
      "Requirement already satisfied: protobuf>=3.9.2 in c:\\users\\ferdi\\anaconda3\\envs\\ev2\\lib\\site-packages (from tensorflow) (3.19.6)\n",
      "Requirement already satisfied: wheel>=0.26 in c:\\users\\ferdi\\anaconda3\\envs\\ev2\\lib\\site-packages (from tensorflow) (0.37.1)\n",
      "Requirement already satisfied: astunparse==1.6.3 in c:\\users\\ferdi\\anaconda3\\envs\\ev2\\lib\\site-packages (from tensorflow) (1.6.3)\n",
      "Requirement already satisfied: opt-einsum>=2.3.2 in c:\\users\\ferdi\\anaconda3\\envs\\ev2\\lib\\site-packages (from tensorflow) (3.3.0)\n",
      "Collecting numpy<1.19.0,>=1.16.0\n",
      "  Using cached numpy-1.18.5-cp38-cp38-win_amd64.whl (12.8 MB)\n",
      "Requirement already satisfied: keras-preprocessing<1.2,>=1.1.1 in c:\\users\\ferdi\\anaconda3\\envs\\ev2\\lib\\site-packages (from tensorflow) (1.1.2)\n",
      "Requirement already satisfied: wrapt>=1.11.1 in c:\\users\\ferdi\\anaconda3\\envs\\ev2\\lib\\site-packages (from tensorflow) (1.14.1)\n",
      "Requirement already satisfied: h5py<2.11.0,>=2.10.0 in c:\\users\\ferdi\\anaconda3\\envs\\ev2\\lib\\site-packages (from tensorflow) (2.10.0)\n",
      "Requirement already satisfied: absl-py>=0.7.0 in c:\\users\\ferdi\\anaconda3\\envs\\ev2\\lib\\site-packages (from tensorflow) (1.3.0)\n",
      "Requirement already satisfied: scipy==1.4.1 in c:\\users\\ferdi\\anaconda3\\envs\\ev2\\lib\\site-packages (from tensorflow) (1.4.1)\n",
      "Requirement already satisfied: tensorflow-estimator<2.4.0,>=2.3.0 in c:\\users\\ferdi\\anaconda3\\envs\\ev2\\lib\\site-packages (from tensorflow) (2.3.0)\n",
      "Requirement already satisfied: setuptools>=41.0.0 in c:\\users\\ferdi\\anaconda3\\envs\\ev2\\lib\\site-packages (from tensorboard<3,>=2.3.0->tensorflow) (65.5.0)\n",
      "Requirement already satisfied: google-auth<3,>=1.6.3 in c:\\users\\ferdi\\anaconda3\\envs\\ev2\\lib\\site-packages (from tensorboard<3,>=2.3.0->tensorflow) (2.6.0)\n",
      "Requirement already satisfied: werkzeug>=1.0.1 in c:\\users\\ferdi\\anaconda3\\envs\\ev2\\lib\\site-packages (from tensorboard<3,>=2.3.0->tensorflow) (2.2.2)\n",
      "Requirement already satisfied: google-auth-oauthlib<0.5,>=0.4.1 in c:\\users\\ferdi\\anaconda3\\envs\\ev2\\lib\\site-packages (from tensorboard<3,>=2.3.0->tensorflow) (0.4.4)\n",
      "Requirement already satisfied: requests<3,>=2.21.0 in c:\\users\\ferdi\\anaconda3\\envs\\ev2\\lib\\site-packages (from tensorboard<3,>=2.3.0->tensorflow) (2.28.1)\n",
      "Requirement already satisfied: tensorboard-data-server<0.7.0,>=0.6.0 in c:\\users\\ferdi\\anaconda3\\envs\\ev2\\lib\\site-packages (from tensorboard<3,>=2.3.0->tensorflow) (0.6.1)\n",
      "Requirement already satisfied: markdown>=2.6.8 in c:\\users\\ferdi\\anaconda3\\envs\\ev2\\lib\\site-packages (from tensorboard<3,>=2.3.0->tensorflow) (3.4.1)\n",
      "Requirement already satisfied: tensorboard-plugin-wit>=1.6.0 in c:\\users\\ferdi\\anaconda3\\envs\\ev2\\lib\\site-packages (from tensorboard<3,>=2.3.0->tensorflow) (1.8.1)\n",
      "Requirement already satisfied: rsa<5,>=3.1.4 in c:\\users\\ferdi\\anaconda3\\envs\\ev2\\lib\\site-packages (from google-auth<3,>=1.6.3->tensorboard<3,>=2.3.0->tensorflow) (4.7.2)\n",
      "Requirement already satisfied: cachetools<6.0,>=2.0.0 in c:\\users\\ferdi\\anaconda3\\envs\\ev2\\lib\\site-packages (from google-auth<3,>=1.6.3->tensorboard<3,>=2.3.0->tensorflow) (4.2.2)\n",
      "Requirement already satisfied: pyasn1-modules>=0.2.1 in c:\\users\\ferdi\\anaconda3\\envs\\ev2\\lib\\site-packages (from google-auth<3,>=1.6.3->tensorboard<3,>=2.3.0->tensorflow) (0.2.8)\n",
      "Requirement already satisfied: requests-oauthlib>=0.7.0 in c:\\users\\ferdi\\anaconda3\\envs\\ev2\\lib\\site-packages (from google-auth-oauthlib<0.5,>=0.4.1->tensorboard<3,>=2.3.0->tensorflow) (1.3.0)\n",
      "Requirement already satisfied: importlib-metadata>=4.4 in c:\\users\\ferdi\\anaconda3\\envs\\ev2\\lib\\site-packages (from markdown>=2.6.8->tensorboard<3,>=2.3.0->tensorflow) (4.11.3)\n",
      "Requirement already satisfied: certifi>=2017.4.17 in c:\\users\\ferdi\\anaconda3\\envs\\ev2\\lib\\site-packages (from requests<3,>=2.21.0->tensorboard<3,>=2.3.0->tensorflow) (2022.12.7)\n",
      "Requirement already satisfied: idna<4,>=2.5 in c:\\users\\ferdi\\anaconda3\\envs\\ev2\\lib\\site-packages (from requests<3,>=2.21.0->tensorboard<3,>=2.3.0->tensorflow) (3.4)\n",
      "Requirement already satisfied: charset-normalizer<3,>=2 in c:\\users\\ferdi\\anaconda3\\envs\\ev2\\lib\\site-packages (from requests<3,>=2.21.0->tensorboard<3,>=2.3.0->tensorflow) (2.0.4)\n",
      "Requirement already satisfied: urllib3<1.27,>=1.21.1 in c:\\users\\ferdi\\anaconda3\\envs\\ev2\\lib\\site-packages (from requests<3,>=2.21.0->tensorboard<3,>=2.3.0->tensorflow) (1.26.13)\n",
      "Requirement already satisfied: MarkupSafe>=2.1.1 in c:\\users\\ferdi\\anaconda3\\envs\\ev2\\lib\\site-packages (from werkzeug>=1.0.1->tensorboard<3,>=2.3.0->tensorflow) (2.1.1)\n",
      "Requirement already satisfied: zipp>=0.5 in c:\\users\\ferdi\\anaconda3\\envs\\ev2\\lib\\site-packages (from importlib-metadata>=4.4->markdown>=2.6.8->tensorboard<3,>=2.3.0->tensorflow) (3.11.0)\n",
      "Requirement already satisfied: pyasn1<0.5.0,>=0.4.6 in c:\\users\\ferdi\\anaconda3\\envs\\ev2\\lib\\site-packages (from pyasn1-modules>=0.2.1->google-auth<3,>=1.6.3->tensorboard<3,>=2.3.0->tensorflow) (0.4.8)\n",
      "Requirement already satisfied: oauthlib>=3.0.0 in c:\\users\\ferdi\\anaconda3\\envs\\ev2\\lib\\site-packages (from requests-oauthlib>=0.7.0->google-auth-oauthlib<0.5,>=0.4.1->tensorboard<3,>=2.3.0->tensorflow) (3.2.1)\n",
      "Installing collected packages: numpy\n",
      "  Attempting uninstall: numpy\n",
      "    Found existing installation: numpy 1.19.0\n",
      "    Uninstalling numpy-1.19.0:\n",
      "      Successfully uninstalled numpy-1.19.0\n"
     ]
    },
    {
     "name": "stderr",
     "output_type": "stream",
     "text": [
      "WARNING: Ignoring invalid distribution -eras (c:\\users\\ferdi\\anaconda3\\envs\\ev2\\lib\\site-packages)\n",
      "WARNING: Ignoring invalid distribution -eras (c:\\users\\ferdi\\anaconda3\\envs\\ev2\\lib\\site-packages)\n",
      "WARNING: Ignoring invalid distribution -eras (c:\\users\\ferdi\\anaconda3\\envs\\ev2\\lib\\site-packages)\n",
      "    WARNING: Ignoring invalid distribution -eras (c:\\users\\ferdi\\anaconda3\\envs\\ev2\\lib\\site-packages)\n",
      "ERROR: Could not install packages due to an OSError: [WinError 5] Erişim engellendi: 'C:\\\\Users\\\\ferdi\\\\anaconda3\\\\envs\\\\ev2\\\\Lib\\\\site-packages\\\\~-mpy\\\\.libs\\\\libopenblas.NOIJJG62EMASZI6NYURL6JBKM4EVBGM7.gfortran-win_amd64.dll'\n",
      "Consider using the `--user` option or check the permissions.\n",
      "\n",
      "WARNING: Ignoring invalid distribution -eras (c:\\users\\ferdi\\anaconda3\\envs\\ev2\\lib\\site-packages)\n",
      "WARNING: Ignoring invalid distribution -eras (c:\\users\\ferdi\\anaconda3\\envs\\ev2\\lib\\site-packages)\n",
      "WARNING: Ignoring invalid distribution -eras (c:\\users\\ferdi\\anaconda3\\envs\\ev2\\lib\\site-packages)\n"
     ]
    }
   ],
   "source": [
    "pip install tensorflow"
   ]
  },
  {
   "cell_type": "code",
   "execution_count": 6,
   "id": "adc266bf",
   "metadata": {
    "collapsed": true
   },
   "outputs": [
    {
     "name": "stdout",
     "output_type": "stream",
     "text": [
      "Collecting tensorflow-gpu\n",
      "  Using cached tensorflow_gpu-2.10.1-cp38-cp38-win_amd64.whl (455.9 MB)\n",
      "Collecting numpy>=1.20\n",
      "  Using cached numpy-1.24.1-cp38-cp38-win_amd64.whl (14.9 MB)\n",
      "Requirement already satisfied: packaging in c:\\users\\ferdi\\anaconda3\\envs\\ev2\\lib\\site-packages (from tensorflow-gpu) (22.0)\n",
      "Requirement already satisfied: h5py>=2.9.0 in c:\\users\\ferdi\\anaconda3\\envs\\ev2\\lib\\site-packages (from tensorflow-gpu) (2.10.0)\n",
      "Requirement already satisfied: setuptools in c:\\users\\ferdi\\anaconda3\\envs\\ev2\\lib\\site-packages (from tensorflow-gpu) (65.5.0)\n",
      "Requirement already satisfied: protobuf<3.20,>=3.9.2 in c:\\users\\ferdi\\anaconda3\\envs\\ev2\\lib\\site-packages (from tensorflow-gpu) (3.19.6)\n",
      "Requirement already satisfied: termcolor>=1.1.0 in c:\\users\\ferdi\\anaconda3\\envs\\ev2\\lib\\site-packages (from tensorflow-gpu) (2.1.0)\n",
      "Collecting tensorflow-estimator<2.11,>=2.10.0\n",
      "  Using cached tensorflow_estimator-2.10.0-py2.py3-none-any.whl (438 kB)\n",
      "Requirement already satisfied: astunparse>=1.6.0 in c:\\users\\ferdi\\anaconda3\\envs\\ev2\\lib\\site-packages (from tensorflow-gpu) (1.6.3)\n",
      "Requirement already satisfied: typing-extensions>=3.6.6 in c:\\users\\ferdi\\anaconda3\\envs\\ev2\\lib\\site-packages (from tensorflow-gpu) (4.4.0)\n",
      "Requirement already satisfied: tensorboard<2.11,>=2.10 in c:\\users\\ferdi\\anaconda3\\envs\\ev2\\lib\\site-packages (from tensorflow-gpu) (2.10.0)\n",
      "Requirement already satisfied: google-pasta>=0.1.1 in c:\\users\\ferdi\\anaconda3\\envs\\ev2\\lib\\site-packages (from tensorflow-gpu) (0.2.0)\n",
      "Requirement already satisfied: keras-preprocessing>=1.1.1 in c:\\users\\ferdi\\anaconda3\\envs\\ev2\\lib\\site-packages (from tensorflow-gpu) (1.1.2)\n",
      "Collecting flatbuffers>=2.0\n",
      "  Using cached flatbuffers-22.12.6-py2.py3-none-any.whl (26 kB)\n",
      "Requirement already satisfied: absl-py>=1.0.0 in c:\\users\\ferdi\\anaconda3\\envs\\ev2\\lib\\site-packages (from tensorflow-gpu) (1.3.0)\n",
      "Requirement already satisfied: keras<2.11,>=2.10.0 in c:\\users\\ferdi\\anaconda3\\envs\\ev2\\lib\\site-packages (from tensorflow-gpu) (2.10.0)\n",
      "Requirement already satisfied: gast<=0.4.0,>=0.2.1 in c:\\users\\ferdi\\anaconda3\\envs\\ev2\\lib\\site-packages (from tensorflow-gpu) (0.3.3)\n",
      "Requirement already satisfied: six>=1.12.0 in c:\\users\\ferdi\\anaconda3\\envs\\ev2\\lib\\site-packages (from tensorflow-gpu) (1.16.0)\n",
      "Requirement already satisfied: grpcio<2.0,>=1.24.3 in c:\\users\\ferdi\\anaconda3\\envs\\ev2\\lib\\site-packages (from tensorflow-gpu) (1.42.0)\n",
      "Requirement already satisfied: opt-einsum>=2.3.2 in c:\\users\\ferdi\\anaconda3\\envs\\ev2\\lib\\site-packages (from tensorflow-gpu) (3.3.0)\n",
      "Requirement already satisfied: wrapt>=1.11.0 in c:\\users\\ferdi\\anaconda3\\envs\\ev2\\lib\\site-packages (from tensorflow-gpu) (1.14.1)\n",
      "Collecting tensorflow-io-gcs-filesystem>=0.23.1\n",
      "  Using cached tensorflow_io_gcs_filesystem-0.29.0-cp38-cp38-win_amd64.whl (1.5 MB)\n",
      "Requirement already satisfied: libclang>=13.0.0 in c:\\users\\ferdi\\anaconda3\\envs\\ev2\\lib\\site-packages (from tensorflow-gpu) (14.0.6)\n",
      "Requirement already satisfied: wheel<1.0,>=0.23.0 in c:\\users\\ferdi\\anaconda3\\envs\\ev2\\lib\\site-packages (from astunparse>=1.6.0->tensorflow-gpu) (0.37.1)\n",
      "Requirement already satisfied: tensorboard-data-server<0.7.0,>=0.6.0 in c:\\users\\ferdi\\anaconda3\\envs\\ev2\\lib\\site-packages (from tensorboard<2.11,>=2.10->tensorflow-gpu) (0.6.1)\n",
      "Requirement already satisfied: google-auth<3,>=1.6.3 in c:\\users\\ferdi\\anaconda3\\envs\\ev2\\lib\\site-packages (from tensorboard<2.11,>=2.10->tensorflow-gpu) (2.6.0)\n",
      "Requirement already satisfied: tensorboard-plugin-wit>=1.6.0 in c:\\users\\ferdi\\anaconda3\\envs\\ev2\\lib\\site-packages (from tensorboard<2.11,>=2.10->tensorflow-gpu) (1.8.1)\n",
      "Requirement already satisfied: google-auth-oauthlib<0.5,>=0.4.1 in c:\\users\\ferdi\\anaconda3\\envs\\ev2\\lib\\site-packages (from tensorboard<2.11,>=2.10->tensorflow-gpu) (0.4.4)\n",
      "Requirement already satisfied: markdown>=2.6.8 in c:\\users\\ferdi\\anaconda3\\envs\\ev2\\lib\\site-packages (from tensorboard<2.11,>=2.10->tensorflow-gpu) (3.4.1)\n",
      "Requirement already satisfied: requests<3,>=2.21.0 in c:\\users\\ferdi\\anaconda3\\envs\\ev2\\lib\\site-packages (from tensorboard<2.11,>=2.10->tensorflow-gpu) (2.28.1)\n",
      "Requirement already satisfied: werkzeug>=1.0.1 in c:\\users\\ferdi\\anaconda3\\envs\\ev2\\lib\\site-packages (from tensorboard<2.11,>=2.10->tensorflow-gpu) (2.2.2)\n",
      "Requirement already satisfied: rsa<5,>=3.1.4 in c:\\users\\ferdi\\anaconda3\\envs\\ev2\\lib\\site-packages (from google-auth<3,>=1.6.3->tensorboard<2.11,>=2.10->tensorflow-gpu) (4.7.2)\n",
      "Requirement already satisfied: cachetools<6.0,>=2.0.0 in c:\\users\\ferdi\\anaconda3\\envs\\ev2\\lib\\site-packages (from google-auth<3,>=1.6.3->tensorboard<2.11,>=2.10->tensorflow-gpu) (4.2.2)\n",
      "Requirement already satisfied: pyasn1-modules>=0.2.1 in c:\\users\\ferdi\\anaconda3\\envs\\ev2\\lib\\site-packages (from google-auth<3,>=1.6.3->tensorboard<2.11,>=2.10->tensorflow-gpu) (0.2.8)\n",
      "Requirement already satisfied: requests-oauthlib>=0.7.0 in c:\\users\\ferdi\\anaconda3\\envs\\ev2\\lib\\site-packages (from google-auth-oauthlib<0.5,>=0.4.1->tensorboard<2.11,>=2.10->tensorflow-gpu) (1.3.0)\n",
      "Requirement already satisfied: importlib-metadata>=4.4 in c:\\users\\ferdi\\anaconda3\\envs\\ev2\\lib\\site-packages (from markdown>=2.6.8->tensorboard<2.11,>=2.10->tensorflow-gpu) (4.11.3)\n",
      "Requirement already satisfied: charset-normalizer<3,>=2 in c:\\users\\ferdi\\anaconda3\\envs\\ev2\\lib\\site-packages (from requests<3,>=2.21.0->tensorboard<2.11,>=2.10->tensorflow-gpu) (2.0.4)\n",
      "Requirement already satisfied: idna<4,>=2.5 in c:\\users\\ferdi\\anaconda3\\envs\\ev2\\lib\\site-packages (from requests<3,>=2.21.0->tensorboard<2.11,>=2.10->tensorflow-gpu) (3.4)\n",
      "Requirement already satisfied: urllib3<1.27,>=1.21.1 in c:\\users\\ferdi\\anaconda3\\envs\\ev2\\lib\\site-packages (from requests<3,>=2.21.0->tensorboard<2.11,>=2.10->tensorflow-gpu) (1.26.13)\n",
      "Requirement already satisfied: certifi>=2017.4.17 in c:\\users\\ferdi\\anaconda3\\envs\\ev2\\lib\\site-packages (from requests<3,>=2.21.0->tensorboard<2.11,>=2.10->tensorflow-gpu) (2022.12.7)\n",
      "Requirement already satisfied: MarkupSafe>=2.1.1 in c:\\users\\ferdi\\anaconda3\\envs\\ev2\\lib\\site-packages (from werkzeug>=1.0.1->tensorboard<2.11,>=2.10->tensorflow-gpu) (2.1.1)\n",
      "Requirement already satisfied: zipp>=0.5 in c:\\users\\ferdi\\anaconda3\\envs\\ev2\\lib\\site-packages (from importlib-metadata>=4.4->markdown>=2.6.8->tensorboard<2.11,>=2.10->tensorflow-gpu) (3.11.0)\n",
      "Requirement already satisfied: pyasn1<0.5.0,>=0.4.6 in c:\\users\\ferdi\\anaconda3\\envs\\ev2\\lib\\site-packages (from pyasn1-modules>=0.2.1->google-auth<3,>=1.6.3->tensorboard<2.11,>=2.10->tensorflow-gpu) (0.4.8)\n",
      "Requirement already satisfied: oauthlib>=3.0.0 in c:\\users\\ferdi\\anaconda3\\envs\\ev2\\lib\\site-packages (from requests-oauthlib>=0.7.0->google-auth-oauthlib<0.5,>=0.4.1->tensorboard<2.11,>=2.10->tensorflow-gpu) (3.2.1)\n",
      "Installing collected packages: flatbuffers, tensorflow-io-gcs-filesystem, tensorflow-estimator, numpy, tensorflow-gpu\n",
      "  Attempting uninstall: tensorflow-estimator\n",
      "    Found existing installation: tensorflow-estimator 2.3.0\n",
      "    Uninstalling tensorflow-estimator-2.3.0:\n",
      "      Successfully uninstalled tensorflow-estimator-2.3.0\n",
      "  Attempting uninstall: numpy\n",
      "    Found existing installation: numpy 1.18.5\n",
      "    Uninstalling numpy-1.18.5:\n",
      "      Successfully uninstalled numpy-1.18.5\n",
      "Note: you may need to restart the kernel to use updated packages.\n"
     ]
    },
    {
     "name": "stderr",
     "output_type": "stream",
     "text": [
      "WARNING: Ignoring invalid distribution -eras (c:\\users\\ferdi\\anaconda3\\envs\\ev2\\lib\\site-packages)\n",
      "WARNING: Ignoring invalid distribution -eras (c:\\users\\ferdi\\anaconda3\\envs\\ev2\\lib\\site-packages)\n",
      "WARNING: Ignoring invalid distribution -eras (c:\\users\\ferdi\\anaconda3\\envs\\ev2\\lib\\site-packages)\n",
      "    WARNING: Ignoring invalid distribution -eras (c:\\users\\ferdi\\anaconda3\\envs\\ev2\\lib\\site-packages)\n",
      "    WARNING: Ignoring invalid distribution -eras (c:\\users\\ferdi\\anaconda3\\envs\\ev2\\lib\\site-packages)\n",
      "ERROR: Could not install packages due to an OSError: [WinError 5] Erişim engellendi: 'C:\\\\Users\\\\ferdi\\\\anaconda3\\\\envs\\\\ev2\\\\Lib\\\\site-packages\\\\tensorflow\\\\lite\\\\experimental\\\\microfrontend\\\\python\\\\ops\\\\_audio_microfrontend_op.so'\n",
      "Consider using the `--user` option or check the permissions.\n",
      "\n",
      "WARNING: Ignoring invalid distribution -eras (c:\\users\\ferdi\\anaconda3\\envs\\ev2\\lib\\site-packages)\n",
      "WARNING: Ignoring invalid distribution -eras (c:\\users\\ferdi\\anaconda3\\envs\\ev2\\lib\\site-packages)\n",
      "WARNING: Ignoring invalid distribution -eras (c:\\users\\ferdi\\anaconda3\\envs\\ev2\\lib\\site-packages)\n"
     ]
    }
   ],
   "source": [
    "pip install tensorflow-gpu"
   ]
  },
  {
   "cell_type": "code",
   "execution_count": 1,
   "id": "0282f2f9",
   "metadata": {},
   "outputs": [
    {
     "name": "stdout",
     "output_type": "stream",
     "text": [
      "Requirement already satisfied: opencv-python in c:\\users\\ferdi\\anaconda3\\lib\\site-packages (4.6.0.66)\n",
      "Requirement already satisfied: numpy>=1.19.3 in c:\\users\\ferdi\\anaconda3\\lib\\site-packages (from opencv-python) (1.19.5)\n",
      "Note: you may need to restart the kernel to use updated packages.\n"
     ]
    }
   ],
   "source": [
    "pip install opencv-python"
   ]
  },
  {
   "cell_type": "code",
   "execution_count": 2,
   "id": "6a70ddce",
   "metadata": {
    "collapsed": true
   },
   "outputs": [
    {
     "name": "stdout",
     "output_type": "stream",
     "text": [
      "Requirement already satisfied: matplotlib in c:\\users\\ferdi\\anaconda3\\lib\\site-packages (3.5.2)\n",
      "Requirement already satisfied: kiwisolver>=1.0.1 in c:\\users\\ferdi\\anaconda3\\lib\\site-packages (from matplotlib) (1.4.2)\n",
      "Requirement already satisfied: pillow>=6.2.0 in c:\\users\\ferdi\\anaconda3\\lib\\site-packages (from matplotlib) (9.2.0)\n",
      "Requirement already satisfied: packaging>=20.0 in c:\\users\\ferdi\\anaconda3\\lib\\site-packages (from matplotlib) (21.3)\n",
      "Requirement already satisfied: pyparsing>=2.2.1 in c:\\users\\ferdi\\anaconda3\\lib\\site-packages (from matplotlib) (3.0.9)\n",
      "Requirement already satisfied: numpy>=1.17 in c:\\users\\ferdi\\anaconda3\\lib\\site-packages (from matplotlib) (1.19.5)\n",
      "Requirement already satisfied: fonttools>=4.22.0 in c:\\users\\ferdi\\anaconda3\\lib\\site-packages (from matplotlib) (4.25.0)\n",
      "Requirement already satisfied: python-dateutil>=2.7 in c:\\users\\ferdi\\anaconda3\\lib\\site-packages (from matplotlib) (2.8.2)\n",
      "Requirement already satisfied: cycler>=0.10 in c:\\users\\ferdi\\anaconda3\\lib\\site-packages (from matplotlib) (0.11.0)\n",
      "Requirement already satisfied: six>=1.5 in c:\\users\\ferdi\\anaconda3\\lib\\site-packages (from python-dateutil>=2.7->matplotlib) (1.15.0)\n",
      "Note: you may need to restart the kernel to use updated packages.\n"
     ]
    }
   ],
   "source": [
    "pip install matplotlib"
   ]
  },
  {
   "cell_type": "code",
   "execution_count": 1,
   "id": "4b942bc9",
   "metadata": {},
   "outputs": [],
   "source": [
    "# Import standard dependencies\n",
    "import cv2\n",
    "import os\n",
    "import random\n",
    "import numpy as np\n",
    "from matplotlib import pyplot as plt"
   ]
  },
  {
   "cell_type": "code",
   "execution_count": 2,
   "id": "a94cd568",
   "metadata": {},
   "outputs": [],
   "source": [
    "# Import tensorflow dependencies - Functional API\n",
    "from tensorflow.keras.models import Model\n",
    "from tensorflow.keras.layers import Layer, Conv2D, Dense, MaxPooling2D, Input, Flatten\n",
    "import tensorflow as tf"
   ]
  },
  {
   "cell_type": "code",
   "execution_count": 3,
   "id": "46510fce",
   "metadata": {},
   "outputs": [
    {
     "name": "stdout",
     "output_type": "stream",
     "text": [
      "1\n"
     ]
    }
   ],
   "source": [
    "# Avoid OOM errors by setting GPU Memory Consumption Growth\n",
    "import tensorflow as tf\n",
    "gpus =  tf.config.experimental.list_physical_devices('GPU')\n",
    "print(len(gpus))\n",
    "            "
   ]
  },
  {
   "cell_type": "code",
   "execution_count": 4,
   "id": "2d4f621c",
   "metadata": {},
   "outputs": [
    {
     "data": {
      "text/plain": [
       "[PhysicalDevice(name='/physical_device:GPU:0', device_type='GPU')]"
      ]
     },
     "execution_count": 4,
     "metadata": {},
     "output_type": "execute_result"
    }
   ],
   "source": [
    "gpus"
   ]
  },
  {
   "cell_type": "code",
   "execution_count": 5,
   "id": "b35e7804",
   "metadata": {},
   "outputs": [],
   "source": [
    "POS_PATH = os.path.join('data', 'positive')\n",
    "NEG_PATH = os.path.join('data', 'negative')\n",
    "ANC_PATH = os.path.join('data', 'anchor')"
   ]
  },
  {
   "cell_type": "code",
   "execution_count": null,
   "id": "a037879e",
   "metadata": {},
   "outputs": [],
   "source": []
  },
  {
   "cell_type": "code",
   "execution_count": 6,
   "id": "0fcfb7c9",
   "metadata": {},
   "outputs": [
    {
     "ename": "FileExistsError",
     "evalue": "[WinError 183] Halen varolan bir dosya oluşturulamaz: 'data\\\\positive'",
     "output_type": "error",
     "traceback": [
      "\u001b[1;31m---------------------------------------------------------------------------\u001b[0m",
      "\u001b[1;31mFileExistsError\u001b[0m                           Traceback (most recent call last)",
      "\u001b[1;32m~\\AppData\\Local\\Temp\\ipykernel_18988\\2704642804.py\u001b[0m in \u001b[0;36m<module>\u001b[1;34m\u001b[0m\n\u001b[0;32m      1\u001b[0m \u001b[1;31m# Make the directories\u001b[0m\u001b[1;33m\u001b[0m\u001b[1;33m\u001b[0m\u001b[0m\n\u001b[1;32m----> 2\u001b[1;33m \u001b[0mos\u001b[0m\u001b[1;33m.\u001b[0m\u001b[0mmakedirs\u001b[0m\u001b[1;33m(\u001b[0m\u001b[0mPOS_PATH\u001b[0m\u001b[1;33m)\u001b[0m\u001b[1;33m\u001b[0m\u001b[1;33m\u001b[0m\u001b[0m\n\u001b[0m\u001b[0;32m      3\u001b[0m \u001b[0mos\u001b[0m\u001b[1;33m.\u001b[0m\u001b[0mmakedirs\u001b[0m\u001b[1;33m(\u001b[0m\u001b[0mNEG_PATH\u001b[0m\u001b[1;33m)\u001b[0m\u001b[1;33m\u001b[0m\u001b[1;33m\u001b[0m\u001b[0m\n\u001b[0;32m      4\u001b[0m \u001b[0mos\u001b[0m\u001b[1;33m.\u001b[0m\u001b[0mmakedirs\u001b[0m\u001b[1;33m(\u001b[0m\u001b[0mANC_PATH\u001b[0m\u001b[1;33m)\u001b[0m\u001b[1;33m\u001b[0m\u001b[1;33m\u001b[0m\u001b[0m\n",
      "\u001b[1;32m~\\anaconda3\\lib\\os.py\u001b[0m in \u001b[0;36mmakedirs\u001b[1;34m(name, mode, exist_ok)\u001b[0m\n\u001b[0;32m    223\u001b[0m             \u001b[1;32mreturn\u001b[0m\u001b[1;33m\u001b[0m\u001b[1;33m\u001b[0m\u001b[0m\n\u001b[0;32m    224\u001b[0m     \u001b[1;32mtry\u001b[0m\u001b[1;33m:\u001b[0m\u001b[1;33m\u001b[0m\u001b[1;33m\u001b[0m\u001b[0m\n\u001b[1;32m--> 225\u001b[1;33m         \u001b[0mmkdir\u001b[0m\u001b[1;33m(\u001b[0m\u001b[0mname\u001b[0m\u001b[1;33m,\u001b[0m \u001b[0mmode\u001b[0m\u001b[1;33m)\u001b[0m\u001b[1;33m\u001b[0m\u001b[1;33m\u001b[0m\u001b[0m\n\u001b[0m\u001b[0;32m    226\u001b[0m     \u001b[1;32mexcept\u001b[0m \u001b[0mOSError\u001b[0m\u001b[1;33m:\u001b[0m\u001b[1;33m\u001b[0m\u001b[1;33m\u001b[0m\u001b[0m\n\u001b[0;32m    227\u001b[0m         \u001b[1;31m# Cannot rely on checking for EEXIST, since the operating system\u001b[0m\u001b[1;33m\u001b[0m\u001b[1;33m\u001b[0m\u001b[0m\n",
      "\u001b[1;31mFileExistsError\u001b[0m: [WinError 183] Halen varolan bir dosya oluşturulamaz: 'data\\\\positive'"
     ]
    }
   ],
   "source": [
    "# Make the directories\n",
    "os.makedirs(POS_PATH)\n",
    "os.makedirs(NEG_PATH)\n",
    "os.makedirs(ANC_PATH)"
   ]
  },
  {
   "cell_type": "code",
   "execution_count": 7,
   "id": "83a6fba3",
   "metadata": {},
   "outputs": [],
   "source": [
    "def data_aug(img):\n",
    "    data = []\n",
    "    for i in range(9):\n",
    "        img = tf.image.stateless_random_brightness(img, max_delta=0.02, seed=(1,2))\n",
    "        img = tf.image.stateless_random_contrast(img, lower=0.6, upper=1, seed=(1,3))\n",
    "        # img = tf.image.stateless_random_crop(img, size=(20,20,3), seed=(1,2))\n",
    "        img = tf.image.stateless_random_flip_left_right(img, seed=(np.random.randint(100),np.random.randint(100)))\n",
    "        img = tf.image.stateless_random_jpeg_quality(img, min_jpeg_quality=90, max_jpeg_quality=100, seed=(np.random.randint(100),np.random.randint(100)))\n",
    "        img = tf.image.stateless_random_saturation(img, lower=0.9,upper=1, seed=(np.random.randint(100),np.random.randint(100)))\n",
    "            \n",
    "        data.append(img)\n",
    "    \n",
    "    return data"
   ]
  },
  {
   "cell_type": "code",
   "execution_count": 8,
   "id": "2740dc10",
   "metadata": {},
   "outputs": [],
   "source": [
    "anchor = tf.data.Dataset.list_files(ANC_PATH+'\\*.jpg').take(3000)\n",
    "positive = tf.data.Dataset.list_files(POS_PATH+'\\*.jpg').take(3000)\n",
    "negative = tf.data.Dataset.list_files(NEG_PATH+'\\*.jpg').take(3000)"
   ]
  },
  {
   "cell_type": "code",
   "execution_count": 9,
   "id": "11a2b2c8",
   "metadata": {},
   "outputs": [],
   "source": [
    "dir_test = anchor.as_numpy_iterator()"
   ]
  },
  {
   "cell_type": "code",
   "execution_count": 10,
   "id": "9a31ddff",
   "metadata": {},
   "outputs": [
    {
     "name": "stdout",
     "output_type": "stream",
     "text": [
      "b'data\\\\anchor\\\\Potato___Early_blight712.jpg'\n"
     ]
    }
   ],
   "source": [
    "print(dir_test.next())"
   ]
  },
  {
   "cell_type": "code",
   "execution_count": 11,
   "id": "be97f5b9",
   "metadata": {},
   "outputs": [],
   "source": [
    "def preprocess(file_path):\n",
    "    \n",
    "    # Read in image from file path\n",
    "    byte_img = tf.io.read_file(file_path)\n",
    "    # Load in the image \n",
    "    img = tf.io.decode_jpeg(byte_img)\n",
    "    \n",
    "    # Preprocessing steps - resizing the image to be 100x100x3\n",
    "    img = tf.image.resize(img, (105,105))\n",
    "    # Scale image to be between 0 and 1 \n",
    "    img = img / 256.0\n",
    "\n",
    "    # Return image\n",
    "    return img"
   ]
  },
  {
   "cell_type": "code",
   "execution_count": 12,
   "id": "8a45f491",
   "metadata": {},
   "outputs": [],
   "source": [
    "img = preprocess('data\\\\anchor\\\\Potato___Early_blight692.jpg')"
   ]
  },
  {
   "cell_type": "markdown",
   "id": "abba0a9d",
   "metadata": {},
   "source": [
    "img.numpy().max()"
   ]
  },
  {
   "cell_type": "code",
   "execution_count": 13,
   "id": "bf1893f1",
   "metadata": {},
   "outputs": [
    {
     "data": {
      "text/plain": [
       "0.9360081"
      ]
     },
     "execution_count": 13,
     "metadata": {},
     "output_type": "execute_result"
    }
   ],
   "source": [
    "img.numpy().max() "
   ]
  },
  {
   "cell_type": "code",
   "execution_count": 14,
   "id": "50602990",
   "metadata": {
    "scrolled": true
   },
   "outputs": [
    {
     "data": {
      "text/plain": [
       "<matplotlib.image.AxesImage at 0x19cc9367430>"
      ]
     },
     "execution_count": 14,
     "metadata": {},
     "output_type": "execute_result"
    },
    {
     "data": {
      "image/png": "[encoded data removed]",
      "text/plain": [
       "<Figure size 640x480 with 1 Axes>"
      ]
     },
     "metadata": {},
     "output_type": "display_data"
    }
   ],
   "source": [
    "plt.imshow(img)"
   ]
  },
  {
   "cell_type": "code",
   "execution_count": 15,
   "id": "749488d5",
   "metadata": {},
   "outputs": [],
   "source": [
    "positives = tf.data.Dataset.zip((anchor, positive, tf.data.Dataset.from_tensor_slices(tf.ones(len(anchor)))))\n",
    "negatives = tf.data.Dataset.zip((anchor, negative, tf.data.Dataset.from_tensor_slices(tf.zeros(len(anchor)))))\n",
    "data = positives.concatenate(negatives)"
   ]
  },
  {
   "cell_type": "code",
   "execution_count": 16,
   "id": "a99482cb",
   "metadata": {},
   "outputs": [],
   "source": [
    "samples = data.as_numpy_iterator()"
   ]
  },
  {
   "cell_type": "code",
   "execution_count": 17,
   "id": "592f18d1",
   "metadata": {},
   "outputs": [],
   "source": [
    "exampple = samples.next()"
   ]
  },
  {
   "cell_type": "code",
   "execution_count": 18,
   "id": "90c5f4e4",
   "metadata": {},
   "outputs": [
    {
     "data": {
      "text/plain": [
       "(b'data\\\\anchor\\\\Potato___Early_blight154.jpg',\n",
       " b'data\\\\positive\\\\Potato_Late_blight535.jpg',\n",
       " 1.0)"
      ]
     },
     "execution_count": 18,
     "metadata": {},
     "output_type": "execute_result"
    }
   ],
   "source": [
    "exampple"
   ]
  },
  {
   "cell_type": "markdown",
   "id": "da8c39f9",
   "metadata": {},
   "source": [
    "TRAIN KISMI"
   ]
  },
  {
   "cell_type": "code",
   "execution_count": 19,
   "id": "d9b61f43",
   "metadata": {},
   "outputs": [],
   "source": [
    "def preprocess_twin(input_img, validation_img, label):\n",
    "    return(preprocess(input_img), preprocess(validation_img), label)"
   ]
  },
  {
   "cell_type": "code",
   "execution_count": 20,
   "id": "6fdf3fc1",
   "metadata": {},
   "outputs": [],
   "source": [
    "res = preprocess_twin(*exampple)"
   ]
  },
  {
   "cell_type": "code",
   "execution_count": 21,
   "id": "6fbfd8e7",
   "metadata": {},
   "outputs": [
    {
     "data": {
      "text/plain": [
       "<matplotlib.image.AxesImage at 0x19cd53d5070>"
      ]
     },
     "execution_count": 21,
     "metadata": {},
     "output_type": "execute_result"
    },
    {
     "data": {
      "image/png": "[encoded data removed]",
      "text/plain": [
       "<Figure size 640x480 with 1 Axes>"
      ]
     },
     "metadata": {},
     "output_type": "display_data"
    }
   ],
   "source": [
    "plt.imshow(res[1])"
   ]
  },
  {
   "cell_type": "code",
   "execution_count": 22,
   "id": "a65c495c",
   "metadata": {
    "scrolled": true
   },
   "outputs": [
    {
     "data": {
      "text/plain": [
       "1.0"
      ]
     },
     "execution_count": 22,
     "metadata": {},
     "output_type": "execute_result"
    }
   ],
   "source": [
    "res[2]"
   ]
  },
  {
   "cell_type": "code",
   "execution_count": 23,
   "id": "9f2682aa",
   "metadata": {},
   "outputs": [],
   "source": [
    "# Build dataloader pipeline\n",
    "data = data.map(preprocess_twin)\n",
    "data = data.cache()\n",
    "data = data.shuffle(buffer_size=10000)"
   ]
  },
  {
   "cell_type": "code",
   "execution_count": 24,
   "id": "c26ff53d",
   "metadata": {},
   "outputs": [],
   "source": [
    "# Training partition\n",
    "train_data = data.take(round(len(data)*.7))\n",
    "train_data = train_data.batch(16)\n",
    "train_data = train_data.prefetch(8)"
   ]
  },
  {
   "cell_type": "code",
   "execution_count": 25,
   "id": "4cccf46b",
   "metadata": {},
   "outputs": [],
   "source": [
    "# Testing partition\n",
    "test_data = data.skip(round(len(data)*.7))\n",
    "test_data = test_data.take(round(len(data)*.3))\n",
    "test_data = test_data.batch(16)\n",
    "test_data = test_data.prefetch(8)"
   ]
  },
  {
   "cell_type": "markdown",
   "id": "1027768e",
   "metadata": {},
   "source": [
    "MODELLEME KISMI"
   ]
  },
  {
   "cell_type": "code",
   "execution_count": 26,
   "id": "6d67b6d5",
   "metadata": {},
   "outputs": [],
   "source": [
    "inp = Input(shape=(105,105,3), name='input_image')\n",
    "c1 = Conv2D(64, (10,10), activation='relu')(inp)\n",
    "m1 = MaxPooling2D(64, (2,2), padding='same')(c1)\n",
    "c2 = Conv2D(128, (7,7), activation='relu')(m1)\n",
    "m2 = MaxPooling2D(64, (2,2), padding='same')(c2)\n",
    "c3 = Conv2D(128, (4,4), activation='relu')(m2)\n",
    "m3 = MaxPooling2D(64, (2,2), padding='same')(c3)\n",
    "c4 = Conv2D(256, (4,4), activation='relu')(m3)\n",
    "f1 = Flatten()(c4)\n",
    "d1 = Dense(4096, activation='sigmoid')(f1)"
   ]
  },
  {
   "cell_type": "markdown",
   "id": "f7f7b807",
   "metadata": {},
   "source": [
    "c1 = Conv2D(64, (10,10), activation='relu')(inp)"
   ]
  },
  {
   "cell_type": "markdown",
   "id": "f7e605ad",
   "metadata": {},
   "source": [
    "m1 = MaxPooling2D(64, (2,2), padding='same')(c1)"
   ]
  },
  {
   "cell_type": "markdown",
   "id": "e665f644",
   "metadata": {},
   "source": [
    "c2 = Conv2D(128, (7,7), activation='relu')(m1)\n",
    "m2 = MaxPooling2D(64, (2,2), padding='same')(c2)"
   ]
  },
  {
   "cell_type": "markdown",
   "id": "715a96b7",
   "metadata": {},
   "source": [
    "c3 = Conv2D(128, (4,4), activation='relu')(m2)\n",
    "m3 = MaxPooling2D(64, (2,2), padding='same')(c3)"
   ]
  },
  {
   "cell_type": "markdown",
   "id": "679589fc",
   "metadata": {},
   "source": [
    "c4 = Conv2D(256, (4,4), activation='relu')(m3)\n",
    "f1 = Flatten()(c4)\n",
    "d1 = Dense(4096, activation='sigmoid')(f1)"
   ]
  },
  {
   "cell_type": "code",
   "execution_count": 27,
   "id": "f5c074ec",
   "metadata": {},
   "outputs": [],
   "source": [
    "mod = Model(inputs=[inp], outputs=[d1], name='embedding')"
   ]
  },
  {
   "cell_type": "code",
   "execution_count": 28,
   "id": "944beeaa",
   "metadata": {},
   "outputs": [
    {
     "name": "stdout",
     "output_type": "stream",
     "text": [
      "Model: \"embedding\"\n",
      "_________________________________________________________________\n",
      "Layer (type)                 Output Shape              Param #   \n",
      "=================================================================\n",
      "input_image (InputLayer)     [(None, 105, 105, 3)]     0         \n",
      "_________________________________________________________________\n",
      "conv2d (Conv2D)              (None, 96, 96, 64)        19264     \n",
      "_________________________________________________________________\n",
      "max_pooling2d (MaxPooling2D) (None, 48, 48, 64)        0         \n",
      "_________________________________________________________________\n",
      "conv2d_1 (Conv2D)            (None, 42, 42, 128)       401536    \n",
      "_________________________________________________________________\n",
      "max_pooling2d_1 (MaxPooling2 (None, 21, 21, 128)       0         \n",
      "_________________________________________________________________\n",
      "conv2d_2 (Conv2D)            (None, 18, 18, 128)       262272    \n",
      "_________________________________________________________________\n",
      "max_pooling2d_2 (MaxPooling2 (None, 9, 9, 128)         0         \n",
      "_________________________________________________________________\n",
      "conv2d_3 (Conv2D)            (None, 6, 6, 256)         524544    \n",
      "_________________________________________________________________\n",
      "flatten (Flatten)            (None, 9216)              0         \n",
      "_________________________________________________________________\n",
      "dense (Dense)                (None, 4096)              37752832  \n",
      "=================================================================\n",
      "Total params: 38,960,448\n",
      "Trainable params: 38,960,448\n",
      "Non-trainable params: 0\n",
      "_________________________________________________________________\n"
     ]
    }
   ],
   "source": [
    "mod.summary()"
   ]
  },
  {
   "cell_type": "code",
   "execution_count": 30,
   "id": "cdc055f4",
   "metadata": {},
   "outputs": [],
   "source": [
    "def make_embedding(): \n",
    "    inp = Input(shape=(105,105,3), name='input_image')\n",
    "    \n",
    "    # First block\n",
    "    c1 = Conv2D(64, (10,10), activation='relu')(inp)\n",
    "    m1 = MaxPooling2D(64, (2,2), padding='same')(c1)\n",
    "    \n",
    "    # Second block\n",
    "    c2 = Conv2D(128, (7,7), activation='relu')(m1)\n",
    "    m2 = MaxPooling2D(64, (2,2), padding='same')(c2)\n",
    "    \n",
    "    # Third block \n",
    "    c3 = Conv2D(128, (4,4), activation='relu')(m2)\n",
    "    m3 = MaxPooling2D(64, (2,2), padding='same')(c3)\n",
    "    \n",
    "    # Final embedding block\n",
    "    c4 = Conv2D(256, (4,4), activation='relu')(m3)\n",
    "    f1 = Flatten()(c4)\n",
    "    d1 = Dense(4096, activation='sigmoid')(f1)\n",
    "    \n",
    "    \n",
    "    return Model(inputs=[inp], outputs=[d1], name='embedding')"
   ]
  },
  {
   "cell_type": "code",
   "execution_count": 31,
   "id": "97992491",
   "metadata": {},
   "outputs": [],
   "source": [
    "embedding = make_embedding()"
   ]
  },
  {
   "cell_type": "code",
   "execution_count": 32,
   "id": "5af1e475",
   "metadata": {},
   "outputs": [
    {
     "name": "stdout",
     "output_type": "stream",
     "text": [
      "Model: \"embedding\"\n",
      "_________________________________________________________________\n",
      "Layer (type)                 Output Shape              Param #   \n",
      "=================================================================\n",
      "input_image (InputLayer)     [(None, 105, 105, 3)]     0         \n",
      "_________________________________________________________________\n",
      "conv2d_4 (Conv2D)            (None, 96, 96, 64)        19264     \n",
      "_________________________________________________________________\n",
      "max_pooling2d_3 (MaxPooling2 (None, 48, 48, 64)        0         \n",
      "_________________________________________________________________\n",
      "conv2d_5 (Conv2D)            (None, 42, 42, 128)       401536    \n",
      "_________________________________________________________________\n",
      "max_pooling2d_4 (MaxPooling2 (None, 21, 21, 128)       0         \n",
      "_________________________________________________________________\n",
      "conv2d_6 (Conv2D)            (None, 18, 18, 128)       262272    \n",
      "_________________________________________________________________\n",
      "max_pooling2d_5 (MaxPooling2 (None, 9, 9, 128)         0         \n",
      "_________________________________________________________________\n",
      "conv2d_7 (Conv2D)            (None, 6, 6, 256)         524544    \n",
      "_________________________________________________________________\n",
      "flatten_1 (Flatten)          (None, 9216)              0         \n",
      "_________________________________________________________________\n",
      "dense_1 (Dense)              (None, 4096)              37752832  \n",
      "=================================================================\n",
      "Total params: 38,960,448\n",
      "Trainable params: 38,960,448\n",
      "Non-trainable params: 0\n",
      "_________________________________________________________________\n"
     ]
    }
   ],
   "source": [
    "embedding.summary()"
   ]
  },
  {
   "cell_type": "code",
   "execution_count": 33,
   "id": "d94418f1",
   "metadata": {},
   "outputs": [],
   "source": [
    "# Siamese L1 Distance class\n",
    "class L1Dist(Layer):\n",
    "    \n",
    "    # Init method - inheritance\n",
    "    def __init__(self, **kwargs):\n",
    "        super().__init__()\n",
    "       \n",
    "    # Magic happens here - similarity calculation\n",
    "    def call(self, input_embedding, validation_embedding):\n",
    "        return tf.math.abs(input_embedding - validation_embedding)"
   ]
  },
  {
   "cell_type": "code",
   "execution_count": 34,
   "id": "9ac71a15",
   "metadata": {},
   "outputs": [],
   "source": [
    "l1 = L1Dist()"
   ]
  },
  {
   "cell_type": "code",
   "execution_count": 35,
   "id": "1cbeb2f8",
   "metadata": {},
   "outputs": [],
   "source": [
    "input_image = Input(name='input_img', shape=(105,105,3))\n",
    "validation_image = Input(name='validation_img', shape=(105,105,3))"
   ]
  },
  {
   "cell_type": "code",
   "execution_count": 36,
   "id": "3793d67b",
   "metadata": {},
   "outputs": [],
   "source": [
    "inp_embedding = embedding(input_image)\n",
    "val_embedding = embedding(validation_image)"
   ]
  },
  {
   "cell_type": "code",
   "execution_count": 37,
   "id": "4db123a5",
   "metadata": {},
   "outputs": [],
   "source": [
    "siamese_layer = L1Dist()\n"
   ]
  },
  {
   "cell_type": "code",
   "execution_count": 38,
   "id": "2711a68c",
   "metadata": {},
   "outputs": [],
   "source": [
    "distances = siamese_layer(inp_embedding, val_embedding)"
   ]
  },
  {
   "cell_type": "code",
   "execution_count": 39,
   "id": "adc8c18c",
   "metadata": {},
   "outputs": [],
   "source": [
    "classifier = Dense(1, activation='sigmoid')(distances)"
   ]
  },
  {
   "cell_type": "code",
   "execution_count": 40,
   "id": "b4e6bd63",
   "metadata": {},
   "outputs": [
    {
     "data": {
      "text/plain": [
       "<KerasTensor: shape=(None, 1) dtype=float32 (created by layer 'dense_2')>"
      ]
     },
     "execution_count": 40,
     "metadata": {},
     "output_type": "execute_result"
    }
   ],
   "source": [
    "classifier"
   ]
  },
  {
   "cell_type": "code",
   "execution_count": 41,
   "id": "831bbbb5",
   "metadata": {},
   "outputs": [],
   "source": [
    "siamese_network = Model(inputs=[input_image, validation_image], outputs=classifier, name='SiameseNetwork')"
   ]
  },
  {
   "cell_type": "code",
   "execution_count": 42,
   "id": "ac02b291",
   "metadata": {},
   "outputs": [
    {
     "name": "stdout",
     "output_type": "stream",
     "text": [
      "Model: \"SiameseNetwork\"\n",
      "__________________________________________________________________________________________________\n",
      "Layer (type)                    Output Shape         Param #     Connected to                     \n",
      "==================================================================================================\n",
      "input_img (InputLayer)          [(None, 105, 105, 3) 0                                            \n",
      "__________________________________________________________________________________________________\n",
      "validation_img (InputLayer)     [(None, 105, 105, 3) 0                                            \n",
      "__________________________________________________________________________________________________\n",
      "embedding (Functional)          (None, 4096)         38960448    input_img[0][0]                  \n",
      "                                                                 validation_img[0][0]             \n",
      "__________________________________________________________________________________________________\n",
      "l1_dist_1 (L1Dist)              (None, 4096)         0           embedding[0][0]                  \n",
      "                                                                 embedding[1][0]                  \n",
      "__________________________________________________________________________________________________\n",
      "dense_2 (Dense)                 (None, 1)            4097        l1_dist_1[0][0]                  \n",
      "==================================================================================================\n",
      "Total params: 38,964,545\n",
      "Trainable params: 38,964,545\n",
      "Non-trainable params: 0\n",
      "__________________________________________________________________________________________________\n"
     ]
    }
   ],
   "source": [
    "siamese_network.summary()"
   ]
  },
  {
   "cell_type": "code",
   "execution_count": 43,
   "id": "9183a92b",
   "metadata": {},
   "outputs": [],
   "source": [
    "def make_siamese_model(): \n",
    "    \n",
    "    # Anchor image input in the network\n",
    "    input_image = Input(name='input_img', shape=(105,105,3))\n",
    "    \n",
    "    # Validation image in the network \n",
    "    validation_image = Input(name='validation_img', shape=(105,105,3))\n",
    "    \n",
    "    # Combine siamese distance components\n",
    "    siamese_layer = L1Dist()\n",
    "    siamese_layer._name = 'distance'\n",
    "    distances = siamese_layer(embedding(input_image), embedding(validation_image))\n",
    "    \n",
    "    # Classification layer \n",
    "    classifier = Dense(1, activation='sigmoid')(distances)\n",
    "    \n",
    "    return Model(inputs=[input_image, validation_image], outputs=classifier, name='SiameseNetwork')"
   ]
  },
  {
   "cell_type": "code",
   "execution_count": 44,
   "id": "a9f40c36",
   "metadata": {},
   "outputs": [
    {
     "name": "stdout",
     "output_type": "stream",
     "text": [
      "Model: \"SiameseNetwork\"\n",
      "__________________________________________________________________________________________________\n",
      "Layer (type)                    Output Shape         Param #     Connected to                     \n",
      "==================================================================================================\n",
      "input_img (InputLayer)          [(None, 105, 105, 3) 0                                            \n",
      "__________________________________________________________________________________________________\n",
      "validation_img (InputLayer)     [(None, 105, 105, 3) 0                                            \n",
      "__________________________________________________________________________________________________\n",
      "embedding (Functional)          (None, 4096)         38960448    input_img[0][0]                  \n",
      "                                                                 validation_img[0][0]             \n",
      "__________________________________________________________________________________________________\n",
      "distance (L1Dist)               (None, 4096)         0           embedding[2][0]                  \n",
      "                                                                 embedding[3][0]                  \n",
      "__________________________________________________________________________________________________\n",
      "dense_3 (Dense)                 (None, 1)            4097        distance[0][0]                   \n",
      "==================================================================================================\n",
      "Total params: 38,964,545\n",
      "Trainable params: 38,964,545\n",
      "Non-trainable params: 0\n",
      "__________________________________________________________________________________________________\n"
     ]
    }
   ],
   "source": [
    "siamese_model = make_siamese_model()\n",
    "siamese_model.summary()\n"
   ]
  },
  {
   "cell_type": "code",
   "execution_count": 45,
   "id": "27eead69",
   "metadata": {},
   "outputs": [],
   "source": [
    "binary_cross_loss = tf.losses.BinaryCrossentropy()"
   ]
  },
  {
   "cell_type": "code",
   "execution_count": 46,
   "id": "93a8ce49",
   "metadata": {},
   "outputs": [],
   "source": [
    "opt = tf.keras.optimizers.Adam(1e-4) # 0.0001"
   ]
  },
  {
   "cell_type": "code",
   "execution_count": 47,
   "id": "de58dfc7",
   "metadata": {},
   "outputs": [],
   "source": [
    "checkpoint_dir = './training_checkpoints'\n",
    "checkpoint_prefix = os.path.join(checkpoint_dir, 'ckpt')\n",
    "checkpoint = tf.train.Checkpoint(opt=opt, siamese_model=siamese_model)"
   ]
  },
  {
   "cell_type": "code",
   "execution_count": 48,
   "id": "5489ebda",
   "metadata": {},
   "outputs": [],
   "source": [
    "test_batch = train_data.as_numpy_iterator()\n",
    "batch_1 = test_batch.next()\n",
    "X = batch_1[:2]\n",
    "y = batch_1[2]"
   ]
  },
  {
   "cell_type": "code",
   "execution_count": 49,
   "id": "9ee75fb2",
   "metadata": {},
   "outputs": [
    {
     "data": {
      "text/plain": [
       "array([1., 1., 1., 1., 1., 1., 1., 1., 1., 1., 1., 1., 1., 1., 1., 1.],\n",
       "      dtype=float32)"
      ]
     },
     "execution_count": 49,
     "metadata": {},
     "output_type": "execute_result"
    }
   ],
   "source": [
    "y"
   ]
  },
  {
   "cell_type": "code",
   "execution_count": 54,
   "id": "5a753a1e",
   "metadata": {
    "collapsed": true
   },
   "outputs": [
    {
     "data": {
      "text/plain": [
       "array([[[[[0.60217917, 0.60999167, 0.65686667],\n",
       "          [0.6134115 , 0.621224  , 0.668099  ],\n",
       "          [0.6188474 , 0.6266599 , 0.6735349 ],\n",
       "          ...,\n",
       "          [0.7252584 , 0.73697716, 0.7721334 ],\n",
       "          [0.72956884, 0.7412876 , 0.77644384],\n",
       "          [0.72625726, 0.737976  , 0.77313226]],\n",
       "\n",
       "         [[0.6315763 , 0.6393888 , 0.6862638 ],\n",
       "          [0.63745934, 0.64527184, 0.69214684],\n",
       "          [0.62229484, 0.63010734, 0.67698234],\n",
       "          ...,\n",
       "          [0.7121518 , 0.7238706 , 0.7590268 ],\n",
       "          [0.7246246 , 0.7363433 , 0.7714996 ],\n",
       "          [0.6917259 , 0.70344466, 0.7386009 ]],\n",
       "\n",
       "         [[0.6139487 , 0.6217612 , 0.6686362 ],\n",
       "          [0.6032618 , 0.6110743 , 0.6579493 ],\n",
       "          [0.5984003 , 0.6062128 , 0.6530878 ],\n",
       "          ...,\n",
       "          [0.6986828 , 0.71040154, 0.7455578 ],\n",
       "          [0.72620916, 0.7379279 , 0.77308416],\n",
       "          [0.6971398 , 0.70885855, 0.7440148 ]],\n",
       "\n",
       "         ...,\n",
       "\n",
       "         [[0.45285624, 0.4411375 , 0.4841062 ],\n",
       "          [0.4629919 , 0.45127314, 0.4942419 ],\n",
       "          [0.47906306, 0.4673443 , 0.5103131 ],\n",
       "          ...,\n",
       "          [0.5228083 , 0.51890206, 0.55015206],\n",
       "          [0.54171467, 0.5378084 , 0.5690584 ],\n",
       "          [0.51484394, 0.5109377 , 0.5421877 ]],\n",
       "\n",
       "         [[0.5078376 , 0.49611887, 0.5390876 ],\n",
       "          [0.53085464, 0.5191359 , 0.56210464],\n",
       "          [0.47036818, 0.45864943, 0.5016182 ],\n",
       "          ...,\n",
       "          [0.55355173, 0.5496455 , 0.5808955 ],\n",
       "          [0.5475285 , 0.54362226, 0.57487226],\n",
       "          [0.5209345 , 0.5170283 , 0.5482783 ]],\n",
       "\n",
       "         [[0.44711146, 0.4353927 , 0.47836146],\n",
       "          [0.46631867, 0.45459992, 0.49756867],\n",
       "          [0.48079592, 0.46907717, 0.5120459 ],\n",
       "          ...,\n",
       "          [0.536267  , 0.53236073, 0.56361073],\n",
       "          [0.5427539 , 0.5388476 , 0.5700976 ],\n",
       "          [0.54704744, 0.5431412 , 0.5743912 ]]],\n",
       "\n",
       "\n",
       "        [[[0.62969536, 0.6179766 , 0.66094536],\n",
       "          [0.6251725 , 0.61345375, 0.6564225 ],\n",
       "          [0.6329033 , 0.6211845 , 0.6641533 ],\n",
       "          ...,\n",
       "          [0.72942257, 0.72161007, 0.7645788 ],\n",
       "          [0.7332861 , 0.7254736 , 0.76844233],\n",
       "          [0.74095696, 0.73314446, 0.7761132 ]],\n",
       "\n",
       "         [[0.64624256, 0.6345238 , 0.67749256],\n",
       "          [0.6341366 , 0.62241787, 0.6653866 ],\n",
       "          [0.6527344 , 0.64101565, 0.6839844 ],\n",
       "          ...,\n",
       "          [0.7458717 , 0.7380592 , 0.781028  ],\n",
       "          [0.73376125, 0.72594875, 0.7689175 ],\n",
       "          [0.7664114 , 0.7585989 , 0.8015677 ]],\n",
       "\n",
       "         [[0.63067114, 0.6189524 , 0.66192114],\n",
       "          [0.6431853 , 0.63146657, 0.6744353 ],\n",
       "          [0.65254086, 0.6408221 , 0.68379086],\n",
       "          ...,\n",
       "          [0.72008544, 0.71227294, 0.7552417 ],\n",
       "          [0.7426831 , 0.7348706 , 0.77783936],\n",
       "          [0.7539599 , 0.7461474 , 0.78911614]],\n",
       "\n",
       "         ...,\n",
       "\n",
       "         [[0.49273175, 0.481013  , 0.51616925],\n",
       "          [0.5812698 , 0.56955105, 0.6047073 ],\n",
       "          [0.573303  , 0.56158423, 0.5967405 ],\n",
       "          ...,\n",
       "          [0.5571457 , 0.54542696, 0.5883957 ],\n",
       "          [0.5569954 , 0.54527664, 0.5882454 ],\n",
       "          [0.57217884, 0.5604601 , 0.60342884]],\n",
       "\n",
       "         [[0.49840984, 0.4866911 , 0.5218473 ],\n",
       "          [0.68173754, 0.6700188 , 0.70517504],\n",
       "          [0.51181936, 0.5001006 , 0.53525686],\n",
       "          ...,\n",
       "          [0.5448784 , 0.5331597 , 0.5761284 ],\n",
       "          [0.5159328 , 0.50421405, 0.5471828 ],\n",
       "          [0.5256075 , 0.5138888 , 0.5568575 ]],\n",
       "\n",
       "         [[0.5416797 , 0.52996093, 0.5651172 ],\n",
       "          [0.57777625, 0.5660575 , 0.60121375],\n",
       "          [0.59463286, 0.5829141 , 0.61807036],\n",
       "          ...,\n",
       "          [0.5283026 , 0.51658386, 0.5595526 ],\n",
       "          [0.5652506 , 0.5535318 , 0.5965006 ],\n",
       "          [0.5359793 , 0.5242605 , 0.5672293 ]]],\n",
       "\n",
       "\n",
       "        [[[0.48803845, 0.48022595, 0.5349134 ],\n",
       "          [0.5398756 , 0.5320631 , 0.5867506 ],\n",
       "          [0.50951093, 0.50169843, 0.556386  ],\n",
       "          ...,\n",
       "          [0.6875812 , 0.6953937 , 0.7422687 ],\n",
       "          [0.66820383, 0.67601633, 0.72289133],\n",
       "          [0.73568386, 0.74349636, 0.79037136]],\n",
       "\n",
       "         [[0.6004289 , 0.5926164 , 0.6473039 ],\n",
       "          [0.52335936, 0.51554686, 0.57023436],\n",
       "          [0.51865566, 0.51084316, 0.56553066],\n",
       "          ...,\n",
       "          [0.6711298 , 0.6789423 , 0.7258173 ],\n",
       "          [0.6689522 , 0.6767647 , 0.7236397 ],\n",
       "          [0.66085297, 0.66866547, 0.71554047]],\n",
       "\n",
       "         [[0.5384925 , 0.53068   , 0.5853675 ],\n",
       "          [0.5679077 , 0.5600952 , 0.6147827 ],\n",
       "          [0.53306806, 0.52525556, 0.57994306],\n",
       "          ...,\n",
       "          [0.68117565, 0.68898815, 0.73586315],\n",
       "          [0.6847695 , 0.692582  , 0.739457  ],\n",
       "          [0.71699905, 0.72481155, 0.77168655]],\n",
       "\n",
       "         ...,\n",
       "\n",
       "         [[0.58163995, 0.5715023 , 0.6331652 ],\n",
       "          [0.6469727 , 0.6368351 , 0.69849795],\n",
       "          [0.49683186, 0.48669425, 0.54835707],\n",
       "          ...,\n",
       "          [0.7146358 , 0.7224483 , 0.77322954],\n",
       "          [0.68228924, 0.69010174, 0.740883  ],\n",
       "          [0.71564615, 0.72345865, 0.7742399 ]],\n",
       "\n",
       "         [[0.6444812 , 0.6366687 , 0.68288755],\n",
       "          [0.6105692 , 0.6027567 , 0.6480843 ],\n",
       "          [0.5687268 , 0.5609143 , 0.6093956 ],\n",
       "          ...,\n",
       "          [0.66710645, 0.67491895, 0.7257002 ],\n",
       "          [0.6930548 , 0.7008673 , 0.75164855],\n",
       "          [0.72282314, 0.73063564, 0.7814169 ]],\n",
       "\n",
       "         [[0.5878357 , 0.5839295 , 0.6151795 ],\n",
       "          [0.53323805, 0.5293318 , 0.5605818 ],\n",
       "          [0.51374936, 0.5098431 , 0.5410931 ],\n",
       "          ...,\n",
       "          [0.6921265 , 0.699939  , 0.75072026],\n",
       "          [0.6897317 , 0.6975442 , 0.74832547],\n",
       "          [0.70735145, 0.71516395, 0.7659452 ]]],\n",
       "\n",
       "\n",
       "        ...,\n",
       "\n",
       "\n",
       "        [[[0.4838772 , 0.4760647 , 0.52684593],\n",
       "          [0.43375292, 0.42594042, 0.47672167],\n",
       "          [0.44548345, 0.43767095, 0.4884522 ],\n",
       "          ...,\n",
       "          [0.553381  , 0.5611935 , 0.6119748 ],\n",
       "          [0.5628112 , 0.5706237 , 0.62140495],\n",
       "          [0.5742188 , 0.5820313 , 0.63281256]],\n",
       "\n",
       "         [[0.45172113, 0.44390863, 0.49468988],\n",
       "          [0.47723693, 0.46942443, 0.5202057 ],\n",
       "          [0.43989953, 0.43208703, 0.48286828],\n",
       "          ...,\n",
       "          [0.55346125, 0.56127375, 0.612055  ],\n",
       "          [0.5710228 , 0.5788353 , 0.62961656],\n",
       "          [0.56329477, 0.57110727, 0.6218885 ]],\n",
       "\n",
       "         [[0.4568997 , 0.4490872 , 0.49986848],\n",
       "          [0.49568984, 0.48787734, 0.5386586 ],\n",
       "          [0.5049581 , 0.4971456 , 0.54792684],\n",
       "          ...,\n",
       "          [0.5612578 , 0.5690703 , 0.6198515 ],\n",
       "          [0.5816659 , 0.5894784 , 0.6402596 ],\n",
       "          [0.559677  , 0.5674895 , 0.61827075]],\n",
       "\n",
       "         ...,\n",
       "\n",
       "         [[0.5554482 , 0.5710732 , 0.6140419 ],\n",
       "          [0.5537469 , 0.5681442 , 0.61172676],\n",
       "          [0.5720134 , 0.5798259 , 0.6267009 ],\n",
       "          ...,\n",
       "          [0.6978902 , 0.7135152 , 0.7603902 ],\n",
       "          [0.6956646 , 0.7112896 , 0.7581646 ],\n",
       "          [0.70711017, 0.72273517, 0.76961017]],\n",
       "\n",
       "         [[0.44083256, 0.45645756, 0.4994263 ],\n",
       "          [0.45565575, 0.47005308, 0.5136357 ],\n",
       "          [0.5542319 , 0.5620444 , 0.6089194 ],\n",
       "          ...,\n",
       "          [0.691535  , 0.70716   , 0.754035  ],\n",
       "          [0.7178422 , 0.7334672 , 0.7803422 ],\n",
       "          [0.6978187 , 0.7134437 , 0.7603187 ]],\n",
       "\n",
       "         [[0.45654154, 0.47216654, 0.5151353 ],\n",
       "          [0.4660673 , 0.48046464, 0.5240472 ],\n",
       "          [0.46066448, 0.46847698, 0.51535195],\n",
       "          ...,\n",
       "          [0.65966094, 0.67528594, 0.72216094],\n",
       "          [0.69881976, 0.71444476, 0.76131976],\n",
       "          [0.7022088 , 0.7178338 , 0.7647088 ]]],\n",
       "\n",
       "\n",
       "        [[[0.67810637, 0.68591887, 0.73279387],\n",
       "          [0.6694991 , 0.6773116 , 0.7241866 ],\n",
       "          [0.66914505, 0.67695755, 0.72383255],\n",
       "          ...,\n",
       "          [0.5789095 , 0.571097  , 0.62187827],\n",
       "          [0.57053035, 0.56271785, 0.6134991 ],\n",
       "          [0.5547634 , 0.5469509 , 0.5977321 ]],\n",
       "\n",
       "         [[0.65046   , 0.6582725 , 0.7051475 ],\n",
       "          [0.671875  , 0.6796875 , 0.7265625 ],\n",
       "          [0.6627033 , 0.6705158 , 0.7173908 ],\n",
       "          ...,\n",
       "          [0.5491834 , 0.5413709 , 0.5921522 ],\n",
       "          [0.56312984, 0.55531734, 0.6060986 ],\n",
       "          [0.5442722 , 0.5364597 , 0.58724093]],\n",
       "\n",
       "         [[0.66120017, 0.66901267, 0.71588767],\n",
       "          [0.6485438 , 0.6563563 , 0.7032313 ],\n",
       "          [0.6658894 , 0.6737019 , 0.7205769 ],\n",
       "          ...,\n",
       "          [0.56594175, 0.55812925, 0.6089105 ],\n",
       "          [0.5777978 , 0.5699853 , 0.6207665 ],\n",
       "          [0.5671793 , 0.5593668 , 0.6101481 ]],\n",
       "\n",
       "         ...,\n",
       "\n",
       "         [[0.7387147 , 0.72699594, 0.7543397 ],\n",
       "          [0.79092765, 0.7792089 , 0.80655265],\n",
       "          [0.7406617 , 0.72894293, 0.7562867 ],\n",
       "          ...,\n",
       "          [0.6335781 , 0.6218594 , 0.6492031 ],\n",
       "          [0.5607442 , 0.5490255 , 0.5763692 ],\n",
       "          [0.6053107 , 0.5935919 , 0.6209357 ]],\n",
       "\n",
       "         [[0.7683201 , 0.75660133, 0.7839451 ],\n",
       "          [0.78941274, 0.777694  , 0.80503774],\n",
       "          [0.73163134, 0.7199126 , 0.74725634],\n",
       "          ...,\n",
       "          [0.5490123 , 0.53729355, 0.5646373 ],\n",
       "          [0.5845478 , 0.57282907, 0.6001728 ],\n",
       "          [0.6890017 , 0.6772829 , 0.7046267 ]],\n",
       "\n",
       "         [[0.7572381 , 0.74551934, 0.7728631 ],\n",
       "          [0.7389462 , 0.72722745, 0.7545712 ],\n",
       "          [0.7436742 , 0.73195547, 0.7592992 ],\n",
       "          ...,\n",
       "          [0.6006883 , 0.5889695 , 0.6163133 ],\n",
       "          [0.5734735 , 0.56175476, 0.5890985 ],\n",
       "          [0.6019074 , 0.5901886 , 0.6175324 ]]],\n",
       "\n",
       "\n",
       "        [[[0.6496652 , 0.6535714 , 0.7238839 ],\n",
       "          [0.6586259 , 0.66314596, 0.731617  ],\n",
       "          [0.6627157 , 0.6705282 , 0.7291219 ],\n",
       "          ...,\n",
       "          [0.78433836, 0.77652586, 0.8273071 ],\n",
       "          [0.7135314 , 0.7057189 , 0.7565001 ],\n",
       "          [0.7346777 , 0.7268652 , 0.7776464 ]],\n",
       "\n",
       "         [[0.6833249 , 0.6872311 , 0.7575436 ],\n",
       "          [0.65821344, 0.66273355, 0.7312045 ],\n",
       "          [0.67090505, 0.67871755, 0.7373113 ],\n",
       "          ...,\n",
       "          [0.78776   , 0.7799475 , 0.83072877],\n",
       "          [0.7753046 , 0.7674921 , 0.81827337],\n",
       "          [0.7472343 , 0.7394218 , 0.79020303]],\n",
       "\n",
       "         [[0.65491605, 0.6588223 , 0.7291348 ],\n",
       "          [0.663159  , 0.66767913, 0.7361501 ],\n",
       "          [0.6875664 , 0.6953789 , 0.75397265],\n",
       "          ...,\n",
       "          [0.67200583, 0.66419333, 0.7149746 ],\n",
       "          [0.721661  , 0.7138485 , 0.7646297 ],\n",
       "          [0.6984495 , 0.690637  , 0.74141824]],\n",
       "\n",
       "         ...,\n",
       "\n",
       "         [[0.47366402, 0.45803902, 0.5127265 ],\n",
       "          [0.48956835, 0.47394335, 0.52863085],\n",
       "          [0.47686732, 0.46124232, 0.5159298 ],\n",
       "          ...,\n",
       "          [0.43945077, 0.42773202, 0.5019508 ],\n",
       "          [0.43893313, 0.42721438, 0.50143313],\n",
       "          [0.47098106, 0.4592623 , 0.53348106]],\n",
       "\n",
       "         [[0.4935757 , 0.4779507 , 0.53263813],\n",
       "          [0.47326547, 0.45764047, 0.51232797],\n",
       "          [0.49099985, 0.47537485, 0.5300623 ],\n",
       "          ...,\n",
       "          [0.45974827, 0.44802952, 0.52224827],\n",
       "          [0.45341897, 0.44170022, 0.51591897],\n",
       "          [0.4527261 , 0.44100735, 0.5152261 ]],\n",
       "\n",
       "         [[0.44984433, 0.43421933, 0.48890683],\n",
       "          [0.5025855 , 0.48696044, 0.541648  ],\n",
       "          [0.53612125, 0.52049625, 0.57518375],\n",
       "          ...,\n",
       "          [0.45751116, 0.4457924 , 0.5200111 ],\n",
       "          [0.3830274 , 0.37130865, 0.4455274 ],\n",
       "          [0.4481489 , 0.43643016, 0.5106489 ]]]],\n",
       "\n",
       "\n",
       "\n",
       "       [[[[0.52905506, 0.47436756, 0.47436756],\n",
       "          [0.50311494, 0.4484274 , 0.4484274 ],\n",
       "          [0.5275089 , 0.47282147, 0.47282147],\n",
       "          ...,\n",
       "          [0.66493905, 0.6219703 , 0.6375953 ],\n",
       "          [0.63385904, 0.5908903 , 0.6065153 ],\n",
       "          [0.6639805 , 0.62101173, 0.63663673]],\n",
       "\n",
       "         [[0.5210616 , 0.4663741 , 0.4663741 ],\n",
       "          [0.49790978, 0.44322228, 0.44322228],\n",
       "          [0.5445193 , 0.4898318 , 0.4898318 ],\n",
       "          ...,\n",
       "          [0.64755005, 0.6045813 , 0.6202063 ],\n",
       "          [0.67713565, 0.6341669 , 0.6497919 ],\n",
       "          [0.6461126 , 0.6031439 , 0.6187689 ]],\n",
       "\n",
       "         [[0.53433555, 0.47964808, 0.47964808],\n",
       "          [0.52504253, 0.47035503, 0.47035503],\n",
       "          [0.5529204 , 0.4982329 , 0.4982329 ],\n",
       "          ...,\n",
       "          [0.66723585, 0.6242671 , 0.6398921 ],\n",
       "          [0.63500595, 0.5920372 , 0.6076622 ],\n",
       "          [0.6654466 , 0.6224778 , 0.6381028 ]],\n",
       "\n",
       "         ...,\n",
       "\n",
       "         [[0.5134335 , 0.46655852, 0.46655852],\n",
       "          [0.52298343, 0.47610843, 0.47610843],\n",
       "          [0.48858243, 0.44170743, 0.44170743],\n",
       "          ...,\n",
       "          [0.554535  , 0.5115662 , 0.5271912 ],\n",
       "          [0.60485494, 0.5618862 , 0.5775112 ],\n",
       "          [0.57300204, 0.5300333 , 0.5456583 ]],\n",
       "\n",
       "         [[0.5156666 , 0.4687916 , 0.4687916 ],\n",
       "          [0.5426487 , 0.49577367, 0.49577367],\n",
       "          [0.50610113, 0.45922616, 0.45922616],\n",
       "          ...,\n",
       "          [0.58533555, 0.5423668 , 0.5579918 ],\n",
       "          [0.6121455 , 0.56917673, 0.58480173],\n",
       "          [0.6071941 , 0.5642254 , 0.5798504 ]],\n",
       "\n",
       "         [[0.52230936, 0.47543436, 0.47543436],\n",
       "          [0.50505483, 0.45817986, 0.45817986],\n",
       "          [0.5031859 , 0.45631096, 0.45631096],\n",
       "          ...,\n",
       "          [0.6057182 , 0.56274945, 0.57837445],\n",
       "          [0.62626994, 0.5833012 , 0.5989262 ],\n",
       "          [0.6193795 , 0.5764108 , 0.5920358 ]]],\n",
       "\n",
       "\n",
       "        [[[0.7785793 , 0.70436054, 0.71217304],\n",
       "          [0.8212319 , 0.74701315, 0.75482565],\n",
       "          [0.73102456, 0.6568058 , 0.6646183 ],\n",
       "          ...,\n",
       "          [0.6908901 , 0.6401088 , 0.6674526 ],\n",
       "          [0.68618304, 0.6354018 , 0.66274554],\n",
       "          [0.6311075 , 0.58032626, 0.60767   ]],\n",
       "\n",
       "         [[0.7565593 , 0.68234056, 0.69015306],\n",
       "          [0.739363  , 0.66514426, 0.67295676],\n",
       "          [0.73019105, 0.6559723 , 0.6637848 ],\n",
       "          ...,\n",
       "          [0.6710782 , 0.62029696, 0.6476407 ],\n",
       "          [0.6915242 , 0.64074296, 0.6680867 ],\n",
       "          [0.6371136 , 0.5863323 , 0.6136761 ]],\n",
       "\n",
       "         [[0.762221  , 0.6880022 , 0.6958147 ],\n",
       "          [0.7340189 , 0.6598002 , 0.6676127 ],\n",
       "          [0.7376081 , 0.6633893 , 0.6712018 ],\n",
       "          ...,\n",
       "          [0.67653835, 0.6257571 , 0.65310085],\n",
       "          [0.67301744, 0.6222362 , 0.64957994],\n",
       "          [0.6396976 , 0.58891636, 0.6162601 ]],\n",
       "\n",
       "         ...,\n",
       "\n",
       "         [[0.6807312 , 0.6299499 , 0.6651062 ],\n",
       "          [0.6507878 , 0.6000065 , 0.6351628 ],\n",
       "          [0.6419603 , 0.5911791 , 0.6263353 ],\n",
       "          ...,\n",
       "          [0.6459152 , 0.59513396, 0.63419646],\n",
       "          [0.6569821 , 0.6062009 , 0.6452634 ],\n",
       "          [0.6630557 , 0.61227447, 0.65133697]],\n",
       "\n",
       "         [[0.66336083, 0.6125796 , 0.64773583],\n",
       "          [0.6546016 , 0.6038203 , 0.6389766 ],\n",
       "          [0.67883855, 0.6280573 , 0.66321355],\n",
       "          ...,\n",
       "          [0.66721153, 0.6164303 , 0.6554928 ],\n",
       "          [0.659446  , 0.60866475, 0.64772725],\n",
       "          [0.64593995, 0.5951587 , 0.6342212 ]],\n",
       "\n",
       "         [[0.64567715, 0.5948959 , 0.63005215],\n",
       "          [0.65569913, 0.6049179 , 0.64007413],\n",
       "          [0.661096  , 0.6103147 , 0.645471  ],\n",
       "          ...,\n",
       "          [0.66586715, 0.6150859 , 0.6541484 ],\n",
       "          [0.66221255, 0.6114313 , 0.6504938 ],\n",
       "          [0.6475154 , 0.59673417, 0.63579667]]],\n",
       "\n",
       "\n",
       "        [[[0.7000795 , 0.661017  , 0.692267  ],\n",
       "          [0.83930475, 0.80024225, 0.83149225],\n",
       "          [0.7024793 , 0.6634168 , 0.6946668 ],\n",
       "          ...,\n",
       "          [0.60023224, 0.549451  , 0.58460724],\n",
       "          [0.6269323 , 0.5761511 , 0.6113073 ],\n",
       "          [0.5844015 , 0.53362024, 0.5687765 ]],\n",
       "\n",
       "         [[0.673525  , 0.6344625 , 0.6657125 ],\n",
       "          [0.7455612 , 0.7064987 , 0.7377487 ],\n",
       "          [0.62576663, 0.58670413, 0.61795413],\n",
       "          ...,\n",
       "          [0.52859205, 0.47781077, 0.51296705],\n",
       "          [0.624374  , 0.5735927 , 0.608749  ],\n",
       "          [0.5452249 , 0.49444363, 0.5295999 ]],\n",
       "\n",
       "         [[0.68795484, 0.64889234, 0.68014234],\n",
       "          [0.6056216 , 0.5665591 , 0.5978091 ],\n",
       "          [0.61534506, 0.57628256, 0.60753256],\n",
       "          ...,\n",
       "          [0.56558853, 0.5148073 , 0.54996353],\n",
       "          [0.59805894, 0.5472777 , 0.58243394],\n",
       "          [0.5520111 , 0.5012298 , 0.5363861 ]],\n",
       "\n",
       "         ...,\n",
       "\n",
       "         [[0.5907717 , 0.5517092 , 0.5868654 ],\n",
       "          [0.59485936, 0.55579686, 0.5909531 ],\n",
       "          [0.5921688 , 0.5531063 , 0.58826256],\n",
       "          ...,\n",
       "          [0.5748587 , 0.5201712 , 0.5709525 ],\n",
       "          [0.5532114 , 0.49852386, 0.54930514],\n",
       "          [0.555041  , 0.5003535 , 0.55113477]],\n",
       "\n",
       "         [[0.5987537 , 0.5596912 , 0.59484744],\n",
       "          [0.58532363, 0.54626113, 0.5814174 ],\n",
       "          [0.5787388 , 0.5396763 , 0.57483256],\n",
       "          ...,\n",
       "          [0.5656741 , 0.5109866 , 0.5617679 ],\n",
       "          [0.5565289 , 0.5018414 , 0.5526227 ],\n",
       "          [0.552665  , 0.49797752, 0.54875875]],\n",
       "\n",
       "         [[0.5954613 , 0.5563988 , 0.59155506],\n",
       "          [0.6022186 , 0.5631561 , 0.5983124 ],\n",
       "          [0.5901972 , 0.5511347 , 0.58629096],\n",
       "          ...,\n",
       "          [0.55438775, 0.49970025, 0.5504815 ],\n",
       "          [0.55310637, 0.49841887, 0.5492001 ],\n",
       "          [0.5448554 , 0.4901679 , 0.54094917]]],\n",
       "\n",
       "\n",
       "        ...,\n",
       "\n",
       "\n",
       "        [[[0.6346625 , 0.5877875 , 0.6034125 ],\n",
       "          [0.6772659 , 0.6303909 , 0.6460159 ],\n",
       "          [0.6468967 , 0.6000217 , 0.6156467 ],\n",
       "          ...,\n",
       "          [0.47160593, 0.39738718, 0.40519968],\n",
       "          [0.5661104 , 0.4918916 , 0.4997041 ],\n",
       "          [0.5380588 , 0.4638401 , 0.4716526 ]],\n",
       "\n",
       "         [[0.64736533, 0.60049033, 0.61611533],\n",
       "          [0.65191805, 0.60504305, 0.62066805],\n",
       "          [0.6461642 , 0.5992892 , 0.6149142 ],\n",
       "          ...,\n",
       "          [0.48540062, 0.41118187, 0.41899437],\n",
       "          [0.5025632 , 0.4283444 , 0.4361569 ],\n",
       "          [0.54386985, 0.4696511 , 0.4774636 ]],\n",
       "\n",
       "         [[0.6602471 , 0.6133721 , 0.6289971 ],\n",
       "          [0.64396787, 0.59709287, 0.61271787],\n",
       "          [0.66336274, 0.61648774, 0.63211274],\n",
       "          ...,\n",
       "          [0.51822025, 0.44400147, 0.45181397],\n",
       "          [0.5216159 , 0.44739717, 0.45520967],\n",
       "          [0.51852465, 0.44430593, 0.45211843]],\n",
       "\n",
       "         ...,\n",
       "\n",
       "         [[0.732887  , 0.6938245 , 0.686012  ],\n",
       "          [0.7276467 , 0.6885842 , 0.6807717 ],\n",
       "          [0.7146465 , 0.675584  , 0.6677715 ],\n",
       "          ...,\n",
       "          [0.5730073 , 0.5183198 , 0.51441354],\n",
       "          [0.56551015, 0.51082265, 0.5069164 ],\n",
       "          [0.52450454, 0.46981707, 0.46591082]],\n",
       "\n",
       "         [[0.7113193 , 0.6722568 , 0.6644443 ],\n",
       "          [0.7297632 , 0.6907007 , 0.6828882 ],\n",
       "          [0.73973376, 0.70067126, 0.69285876],\n",
       "          ...,\n",
       "          [0.55167633, 0.49698886, 0.4930826 ],\n",
       "          [0.5293795 , 0.474692  , 0.47078574],\n",
       "          [0.50734407, 0.4526566 , 0.44875035]],\n",
       "\n",
       "         [[0.72046125, 0.68139875, 0.67358625],\n",
       "          [0.7234848 , 0.6844223 , 0.6766098 ],\n",
       "          [0.71756184, 0.67849934, 0.67068684],\n",
       "          ...,\n",
       "          [0.5554061 , 0.5007186 , 0.4968123 ],\n",
       "          [0.5277588 , 0.47307128, 0.46916503],\n",
       "          [0.5187668 , 0.4640793 , 0.46017304]]],\n",
       "\n",
       "\n",
       "        [[[0.6796875 , 0.6328125 , 0.6875    ],\n",
       "          [0.6806125 , 0.6337375 , 0.688425  ],\n",
       "          [0.6734561 , 0.6265811 , 0.6812686 ],\n",
       "          ...,\n",
       "          [0.6672159 , 0.6203409 , 0.6672159 ],\n",
       "          [0.681907  , 0.635032  , 0.681907  ],\n",
       "          [0.73778546, 0.69091046, 0.73778546]],\n",
       "\n",
       "         [[0.6677963 , 0.6209213 , 0.6756088 ],\n",
       "          [0.671875  , 0.625     , 0.6796875 ],\n",
       "          [0.6695498 , 0.6226748 , 0.6773623 ],\n",
       "          ...,\n",
       "          [0.7074905 , 0.6606155 , 0.7074905 ],\n",
       "          [0.73724306, 0.69036806, 0.73724306],\n",
       "          [0.7385581 , 0.6916831 , 0.7385581 ]],\n",
       "\n",
       "         [[0.6691965 , 0.6223215 , 0.677009  ],\n",
       "          [0.6781064 , 0.6312314 , 0.6859189 ],\n",
       "          [0.67716527, 0.63029027, 0.68497777],\n",
       "          ...,\n",
       "          [0.62211055, 0.57523555, 0.62211055],\n",
       "          [0.7207683 , 0.6738933 , 0.7207683 ],\n",
       "          [0.6744641 , 0.6275891 , 0.6744641 ]],\n",
       "\n",
       "         ...,\n",
       "\n",
       "         [[0.59700304, 0.53450304, 0.5774718 ],\n",
       "          [0.6045015 , 0.5420015 , 0.58497024],\n",
       "          [0.60621274, 0.54371274, 0.5866815 ],\n",
       "          ...,\n",
       "          [0.6614454 , 0.5989454 , 0.6380079 ],\n",
       "          [0.5944252 , 0.5319252 , 0.5709877 ],\n",
       "          [0.655427  , 0.592927  , 0.6319895 ]],\n",
       "\n",
       "         [[0.5863789 , 0.5238789 , 0.5668476 ],\n",
       "          [0.58984375, 0.52734375, 0.5703125 ],\n",
       "          [0.5839777 , 0.5214777 , 0.56444645],\n",
       "          ...,\n",
       "          [0.60746366, 0.54496366, 0.58402616],\n",
       "          [0.61698574, 0.55448574, 0.59354824],\n",
       "          [0.61411273, 0.55161273, 0.59067523]],\n",
       "\n",
       "         [[0.5873404 , 0.5248404 , 0.56780916],\n",
       "          [0.59954   , 0.53704   , 0.58000875],\n",
       "          [0.60160184, 0.53910184, 0.5820706 ],\n",
       "          ...,\n",
       "          [0.61460006, 0.55210006, 0.59116256],\n",
       "          [0.5983483 , 0.5358483 , 0.5749108 ],\n",
       "          [0.6044736 , 0.5419736 , 0.5810361 ]]],\n",
       "\n",
       "\n",
       "        [[[0.3779869 , 0.3467369 , 0.38970566],\n",
       "          [0.4057629 , 0.3745129 , 0.41748166],\n",
       "          [0.3984375 , 0.3671875 , 0.41015625],\n",
       "          ...,\n",
       "          [0.35141805, 0.31235555, 0.34518668],\n",
       "          [0.36078373, 0.32172123, 0.35687748],\n",
       "          [0.36969084, 0.33062834, 0.3657846 ]],\n",
       "\n",
       "         [[0.42144212, 0.39019212, 0.43316087],\n",
       "          [0.4282924 , 0.3970424 , 0.44001114],\n",
       "          [0.3860119 , 0.3547619 , 0.39773065],\n",
       "          ...,\n",
       "          [0.36060268, 0.32154018, 0.3543713 ],\n",
       "          [0.38620144, 0.34713894, 0.3822952 ],\n",
       "          [0.36482012, 0.32575762, 0.36091387]],\n",
       "\n",
       "         [[0.38837868, 0.35712868, 0.40009743],\n",
       "          [0.420739  , 0.389489  , 0.43245775],\n",
       "          [0.39103025, 0.35978025, 0.402749  ],\n",
       "          ...,\n",
       "          [0.3754429 , 0.3363804 , 0.36921152],\n",
       "          [0.39391744, 0.35485494, 0.3900112 ],\n",
       "          [0.37407216, 0.33500966, 0.3701659 ]],\n",
       "\n",
       "         ...,\n",
       "\n",
       "         [[0.5783724 , 0.56665367, 0.6096224 ],\n",
       "          [0.5993543 , 0.5876356 , 0.6306043 ],\n",
       "          [0.5846466 , 0.57292783, 0.6158966 ],\n",
       "          ...,\n",
       "          [0.5866815 , 0.57496274, 0.610119  ],\n",
       "          [0.5804501 , 0.56873137, 0.6038876 ],\n",
       "          [0.5907322 , 0.57901347, 0.6141697 ]],\n",
       "\n",
       "         [[0.52351683, 0.5117981 , 0.55476683],\n",
       "          [0.57338154, 0.5616628 , 0.60463154],\n",
       "          [0.6070884 , 0.59536964, 0.6383384 ],\n",
       "          ...,\n",
       "          [0.5880142 , 0.57629544, 0.6114517 ],\n",
       "          [0.5714437 , 0.5597249 , 0.5948812 ],\n",
       "          [0.5896714 , 0.5779526 , 0.6131089 ]],\n",
       "\n",
       "         [[0.48916095, 0.4774422 , 0.52041095],\n",
       "          [0.56380373, 0.552085  , 0.59505373],\n",
       "          [0.566497  , 0.5547783 , 0.597747  ],\n",
       "          ...,\n",
       "          [0.5877025 , 0.57598376, 0.61114   ],\n",
       "          [0.58167773, 0.569959  , 0.60511523],\n",
       "          [0.5792225 , 0.56750375, 0.60266   ]]]]], dtype=float32)"
      ]
     },
     "execution_count": 54,
     "metadata": {},
     "output_type": "execute_result"
    }
   ],
   "source": [
    "np.array(X)"
   ]
  },
  {
   "cell_type": "code",
   "execution_count": 50,
   "id": "7d734c73",
   "metadata": {},
   "outputs": [],
   "source": [
    "@tf.function\n",
    "def train_step(batch):\n",
    "    \n",
    "    # Record all of our operations \n",
    "    with tf.GradientTape() as tape:     \n",
    "        # Get anchor and positive/negative image\n",
    "        X = batch[:2]\n",
    "        # Get label\n",
    "        y = batch[2]\n",
    "        \n",
    "        # Forward pass\n",
    "        yhat = siamese_model(X, training=True)\n",
    "        # Calculate loss\n",
    "        loss = binary_cross_loss(y, yhat)\n",
    "    print(loss)\n",
    "        \n",
    "    # Calculate gradients\n",
    "    grad = tape.gradient(loss, siamese_model.trainable_variables)\n",
    "    \n",
    "    # Calculate updated weights and apply to siamese model\n",
    "    opt.apply_gradients(zip(grad, siamese_model.trainable_variables))\n",
    "        \n",
    "    # Return loss\n",
    "    return loss"
   ]
  },
  {
   "cell_type": "code",
   "execution_count": 51,
   "id": "37f02423",
   "metadata": {},
   "outputs": [],
   "source": [
    "# Import metric calculations\n",
    "from tensorflow.keras.metrics import Precision, Recall"
   ]
  },
  {
   "cell_type": "code",
   "execution_count": 52,
   "id": "0573565f",
   "metadata": {},
   "outputs": [],
   "source": [
    "def train(data, EPOCHS):\n",
    "    # Loop through epochs\n",
    "    for epoch in range(1, EPOCHS+1):\n",
    "        print('\\n Epoch {}/{}'.format(epoch, EPOCHS))\n",
    "        progbar = tf.keras.utils.Progbar(len(data))\n",
    "        \n",
    "        # Creating a metric object \n",
    "        r = Recall()\n",
    "        p = Precision()\n",
    "        \n",
    "        # Loop through each batch\n",
    "        for idx, batch in enumerate(data):\n",
    "            # Run train step here\n",
    "            loss = train_step(batch)\n",
    "            yhat = siamese_model.predict(batch[:2])\n",
    "            r.update_state(batch[2], yhat)\n",
    "            p.update_state(batch[2], yhat) \n",
    "            progbar.update(idx+1)\n",
    "        print(loss.numpy(), r.result().numpy(), p.result().numpy())\n",
    "        \n",
    "        # Save checkpoints\n",
    "        if epoch % 10 == 0: \n",
    "            checkpoint.save(file_prefix=checkpoint_prefix)"
   ]
  },
  {
   "cell_type": "code",
   "execution_count": 53,
   "id": "06557172",
   "metadata": {},
   "outputs": [],
   "source": [
    "EPOCHS = 50"
   ]
  },
  {
   "cell_type": "code",
   "execution_count": 54,
   "id": "ce112e12",
   "metadata": {},
   "outputs": [
    {
     "name": "stdout",
     "output_type": "stream",
     "text": [
      "\n",
      " Epoch 1/50\n",
      "Tensor(\"binary_crossentropy/weighted_loss/value:0\", shape=(), dtype=float32)\n",
      "Tensor(\"binary_crossentropy/weighted_loss/value:0\", shape=(), dtype=float32)\n",
      "49/50 [============================>.] - ETA: 0sTensor(\"binary_crossentropy/weighted_loss/value:0\", shape=(), dtype=float32)\n",
      "50/50 [==============================] - 44s 688ms/step\n",
      "0.12816614 1.0 0.8903061\n",
      "\n",
      " Epoch 2/50\n",
      "50/50 [==============================] - 33s 663ms/step\n",
      "0.03991048 0.99712646 0.8931789\n",
      "\n",
      " Epoch 3/50\n",
      "50/50 [==============================] - 33s 667ms/step\n",
      "0.007300496 0.99856937 0.8994845\n",
      "\n",
      " Epoch 4/50\n",
      "50/50 [==============================] - 33s 652ms/step\n",
      "0.0005644364 1.0 0.90231365\n",
      "\n",
      " Epoch 5/50\n",
      "50/50 [==============================] - 33s 653ms/step\n",
      "0.018179698 0.9971014 0.9173333\n",
      "\n",
      " Epoch 6/50\n",
      "50/50 [==============================] - 33s 652ms/step\n",
      "0.012418771 0.98866856 0.9627586\n",
      "\n",
      " Epoch 7/50\n",
      "50/50 [==============================] - 33s 655ms/step\n",
      "0.00010455201 0.9928264 0.98016995\n",
      "\n",
      " Epoch 8/50\n",
      "50/50 [==============================] - 33s 652ms/step\n",
      "3.3378658e-06 0.9899135 0.9899135\n",
      "\n",
      " Epoch 9/50\n",
      "50/50 [==============================] - 33s 650ms/step\n",
      "4.649173e-06 0.99576867 0.9887955\n",
      "\n",
      " Epoch 10/50\n",
      "50/50 [==============================] - 32s 644ms/step\n",
      "0.027098091 0.9929078 0.9817672\n",
      "\n",
      " Epoch 11/50\n",
      "50/50 [==============================] - 32s 647ms/step\n",
      "0.01472533 0.9985549 0.9928161\n",
      "\n",
      " Epoch 12/50\n",
      "50/50 [==============================] - 33s 654ms/step\n",
      "0.0069291494 0.99714285 0.99007094\n",
      "\n",
      " Epoch 13/50\n",
      "50/50 [==============================] - 33s 656ms/step\n",
      "0.00043514898 0.99714285 0.99856937\n",
      "\n",
      " Epoch 14/50\n",
      "50/50 [==============================] - 33s 653ms/step\n",
      "0.052904997 1.0 0.9971631\n",
      "\n",
      " Epoch 15/50\n",
      "50/50 [==============================] - 33s 653ms/step\n",
      "-0.0 0.99857754 0.99715906\n",
      "\n",
      " Epoch 16/50\n",
      "50/50 [==============================] - 33s 653ms/step\n",
      "-0.0 1.0 1.0\n",
      "\n",
      " Epoch 17/50\n",
      "50/50 [==============================] - 32s 649ms/step\n",
      "1.9073505e-06 0.99857146 0.99857146\n",
      "\n",
      " Epoch 18/50\n",
      "50/50 [==============================] - 32s 649ms/step\n",
      "-0.0 1.0 1.0\n",
      "\n",
      " Epoch 19/50\n",
      "50/50 [==============================] - 33s 650ms/step\n",
      "0.0043269894 1.0 1.0\n",
      "\n",
      " Epoch 20/50\n",
      "50/50 [==============================] - 33s 651ms/step\n",
      "-0.0 1.0 1.0\n",
      "\n",
      " Epoch 21/50\n",
      "50/50 [==============================] - 33s 652ms/step\n",
      "0.079651214 1.0 1.0\n",
      "\n",
      " Epoch 22/50\n",
      "50/50 [==============================] - 32s 648ms/step\n",
      "0.00031678926 0.9971223 0.9971223\n",
      "\n",
      " Epoch 23/50\n",
      "50/50 [==============================] - 32s 645ms/step\n",
      "0.0011793771 0.9985755 0.9971551\n",
      "\n",
      " Epoch 24/50\n",
      "50/50 [==============================] - 32s 644ms/step\n",
      "0.14338884 1.0 1.0\n",
      "\n",
      " Epoch 25/50\n",
      "50/50 [==============================] - 32s 641ms/step\n",
      "0.0002026167 1.0 0.99857754\n",
      "\n",
      " Epoch 26/50\n",
      "50/50 [==============================] - 32s 642ms/step\n",
      "0.025683792 0.9985549 1.0\n",
      "\n",
      " Epoch 27/50\n",
      "50/50 [==============================] - 32s 645ms/step\n",
      "-0.0 1.0 1.0\n",
      "\n",
      " Epoch 28/50\n",
      "50/50 [==============================] - 32s 645ms/step\n",
      "-0.0 1.0 1.0\n",
      "\n",
      " Epoch 29/50\n",
      "50/50 [==============================] - 32s 645ms/step\n",
      "-0.0 1.0 1.0\n",
      "\n",
      " Epoch 30/50\n",
      "50/50 [==============================] - 32s 645ms/step\n",
      "-0.0 1.0 1.0\n",
      "\n",
      " Epoch 31/50\n",
      "50/50 [==============================] - 32s 647ms/step\n",
      "0.00031798173 1.0 1.0\n",
      "\n",
      " Epoch 32/50\n",
      "50/50 [==============================] - 32s 644ms/step\n",
      "-0.0 0.99857956 1.0\n",
      "\n",
      " Epoch 33/50\n",
      "50/50 [==============================] - 32s 642ms/step\n",
      "0.00047730867 1.0 1.0\n",
      "\n",
      " Epoch 34/50\n",
      "50/50 [==============================] - 32s 643ms/step\n",
      "-0.0 1.0 1.0\n",
      "\n",
      " Epoch 35/50\n",
      "50/50 [==============================] - 32s 643ms/step\n",
      "-0.0 1.0 1.0\n",
      "\n",
      " Epoch 36/50\n",
      "50/50 [==============================] - 32s 644ms/step\n",
      "-0.0 1.0 1.0\n",
      "\n",
      " Epoch 37/50\n",
      "50/50 [==============================] - 32s 643ms/step\n",
      "-0.0 1.0 1.0\n",
      "\n",
      " Epoch 38/50\n",
      "50/50 [==============================] - 32s 642ms/step\n",
      "-0.0 1.0 1.0\n",
      "\n",
      " Epoch 39/50\n",
      "50/50 [==============================] - 32s 642ms/step\n",
      "-0.0 1.0 1.0\n",
      "\n",
      " Epoch 40/50\n",
      "50/50 [==============================] - 32s 643ms/step\n",
      "-0.0 1.0 1.0\n",
      "\n",
      " Epoch 41/50\n",
      "50/50 [==============================] - 32s 643ms/step\n",
      "-0.0 1.0 1.0\n",
      "\n",
      " Epoch 42/50\n",
      "50/50 [==============================] - 32s 644ms/step\n",
      "-0.0 1.0 1.0\n",
      "\n",
      " Epoch 43/50\n",
      "50/50 [==============================] - 32s 645ms/step\n",
      "8.404608e-05 1.0 1.0\n",
      "\n",
      " Epoch 44/50\n",
      "50/50 [==============================] - 32s 645ms/step\n",
      "2.8491426e-05 1.0 1.0\n",
      "\n",
      " Epoch 45/50\n",
      "50/50 [==============================] - 32s 645ms/step\n",
      "-0.0 1.0 1.0\n",
      "\n",
      " Epoch 46/50\n",
      "50/50 [==============================] - 32s 644ms/step\n",
      "1.08481045e-05 1.0 1.0\n",
      "\n",
      " Epoch 47/50\n",
      "50/50 [==============================] - 32s 644ms/step\n",
      "0.00014353829 1.0 1.0\n",
      "\n",
      " Epoch 48/50\n",
      "50/50 [==============================] - 32s 643ms/step\n",
      "-0.0 1.0 1.0\n",
      "\n",
      " Epoch 49/50\n",
      "50/50 [==============================] - 32s 644ms/step\n",
      "8.7503446e-05 1.0 1.0\n",
      "\n",
      " Epoch 50/50\n",
      "50/50 [==============================] - 32s 645ms/step\n",
      "-0.0 1.0 1.0\n"
     ]
    }
   ],
   "source": [
    "train(train_data, EPOCHS)"
   ]
  },
  {
   "cell_type": "code",
   "execution_count": 55,
   "id": "b124b549",
   "metadata": {},
   "outputs": [],
   "source": [
    "# Import metric calculations\n",
    "from tensorflow.keras.metrics import Precision, Recall"
   ]
  },
  {
   "cell_type": "code",
   "execution_count": 56,
   "id": "589fbdd4",
   "metadata": {},
   "outputs": [],
   "source": [
    "# Get a batch of test data\n",
    "test_input, test_val, y_true = test_data.as_numpy_iterator().next()"
   ]
  },
  {
   "cell_type": "code",
   "execution_count": 57,
   "id": "167bba62",
   "metadata": {},
   "outputs": [],
   "source": [
    "y_hat = siamese_model.predict([test_input, test_val])"
   ]
  },
  {
   "cell_type": "code",
   "execution_count": 58,
   "id": "271ba51b",
   "metadata": {},
   "outputs": [
    {
     "data": {
      "text/plain": [
       "[1, 1, 1, 1, 1, 1, 1, 1, 1, 1, 1, 1, 1, 1, 1, 1]"
      ]
     },
     "execution_count": 58,
     "metadata": {},
     "output_type": "execute_result"
    }
   ],
   "source": [
    "# Post processing the results \n",
    "[1 if prediction > 0.5 else 0 for prediction in y_hat ]"
   ]
  },
  {
   "cell_type": "code",
   "execution_count": 61,
   "id": "17407d39",
   "metadata": {},
   "outputs": [
    {
     "data": {
      "text/plain": [
       "array([1., 1., 1., 1., 1., 1., 1., 1., 1., 1., 1., 1., 1., 1., 1., 1.],\n",
       "      dtype=float32)"
      ]
     },
     "execution_count": 61,
     "metadata": {},
     "output_type": "execute_result"
    }
   ],
   "source": [
    "y_true"
   ]
  },
  {
   "cell_type": "code",
   "execution_count": 62,
   "id": "1a43aef6",
   "metadata": {},
   "outputs": [
    {
     "data": {
      "text/plain": [
       "1.0"
      ]
     },
     "execution_count": 62,
     "metadata": {},
     "output_type": "execute_result"
    }
   ],
   "source": [
    "# Creating a metric object \n",
    "m = Recall()\n",
    "\n",
    "# Calculating the recall value \n",
    "m.update_state(y_true, y_hat)\n",
    "\n",
    "# Return Recall Result\n",
    "m.result().numpy()"
   ]
  },
  {
   "cell_type": "code",
   "execution_count": 63,
   "id": "f26592f0",
   "metadata": {},
   "outputs": [
    {
     "data": {
      "text/plain": [
       "1.0"
      ]
     },
     "execution_count": 63,
     "metadata": {},
     "output_type": "execute_result"
    }
   ],
   "source": [
    "# Creating a metric object \n",
    "m = Precision()\n",
    "\n",
    "# Calculating the recall value \n",
    "m.update_state(y_true, y_hat)\n",
    "\n",
    "# Return Recall Result\n",
    "m.result().numpy()"
   ]
  },
  {
   "cell_type": "code",
   "execution_count": 64,
   "id": "29e8d682",
   "metadata": {},
   "outputs": [
    {
     "name": "stdout",
     "output_type": "stream",
     "text": [
      "1.0 1.0\n"
     ]
    }
   ],
   "source": [
    "r = Recall()\n",
    "p = Precision()\n",
    "\n",
    "for test_input, test_val, y_true in test_data.as_numpy_iterator():\n",
    "    yhat = siamese_model.predict([test_input, test_val])\n",
    "    r.update_state(y_true, yhat)\n",
    "    p.update_state(y_true,yhat) \n",
    "\n",
    "print(r.result().numpy(), p.result().numpy())"
   ]
  },
  {
   "cell_type": "code",
   "execution_count": 65,
   "id": "811d3dfb",
   "metadata": {},
   "outputs": [
    {
     "data": {
      "image/png": "[encoded data removed]",
      "text/plain": [
       "<Figure size 1000x800 with 2 Axes>"
      ]
     },
     "metadata": {},
     "output_type": "display_data"
    }
   ],
   "source": [
    "# Set plot size \n",
    "plt.figure(figsize=(10,8))\n",
    "\n",
    "# Set first subplot\n",
    "plt.subplot(1,2,1)\n",
    "plt.imshow(test_input[0])\n",
    "\n",
    "# Set second subplot\n",
    "plt.subplot(1,2,2)\n",
    "plt.imshow(test_val[0])\n",
    "\n",
    "# Renders cleanly\n",
    "plt.show()"
   ]
  },
  {
   "cell_type": "code",
   "execution_count": 66,
   "id": "1b47c2b8",
   "metadata": {},
   "outputs": [
    {
     "name": "stdout",
     "output_type": "stream",
     "text": [
      "WARNING:tensorflow:Compiled the loaded model, but the compiled metrics have yet to be built. `model.compile_metrics` will be empty until you train or evaluate the model.\n"
     ]
    }
   ],
   "source": [
    "# Save weights\n",
    "siamese_model.save('siamesemodelv2.h5')\n"
   ]
  },
  {
   "cell_type": "code",
   "execution_count": 67,
   "id": "6f46ffc7",
   "metadata": {},
   "outputs": [
    {
     "name": "stdout",
     "output_type": "stream",
     "text": [
      "WARNING:tensorflow:No training configuration found in the save file, so the model was *not* compiled. Compile it manually.\n"
     ]
    }
   ],
   "source": [
    "siamese_model = tf.keras.models.load_model('siamesemodelv2.h5', \n",
    "                                   custom_objects={'L1Dist':L1Dist, 'BinaryCrossentropy':tf.losses.BinaryCrossentropy})"
   ]
  },
  {
   "cell_type": "code",
   "execution_count": 68,
   "id": "2a9cd824",
   "metadata": {},
   "outputs": [
    {
     "data": {
      "text/plain": [
       "array([[1.]], dtype=float32)"
      ]
     },
     "execution_count": 68,
     "metadata": {},
     "output_type": "execute_result"
    }
   ],
   "source": [
    "# Make predictions with reloaded model\n",
    "siamese_model.predict([test_input, test_val])"
   ]
  },
  {
   "cell_type": "code",
   "execution_count": 69,
   "id": "2c7effdf",
   "metadata": {},
   "outputs": [
    {
     "name": "stdout",
     "output_type": "stream",
     "text": [
      "Model: \"SiameseNetwork\"\n",
      "__________________________________________________________________________________________________\n",
      "Layer (type)                    Output Shape         Param #     Connected to                     \n",
      "==================================================================================================\n",
      "input_img (InputLayer)          [(None, 105, 105, 3) 0                                            \n",
      "__________________________________________________________________________________________________\n",
      "validation_img (InputLayer)     [(None, 105, 105, 3) 0                                            \n",
      "__________________________________________________________________________________________________\n",
      "embedding (Functional)          (None, 4096)         38960448    input_img[0][0]                  \n",
      "                                                                 validation_img[0][0]             \n",
      "__________________________________________________________________________________________________\n",
      "l1_dist_3 (L1Dist)              (None, 4096)         0           embedding[0][0]                  \n",
      "                                                                 embedding[1][0]                  \n",
      "__________________________________________________________________________________________________\n",
      "dense_3 (Dense)                 (None, 1)            4097        l1_dist_3[0][0]                  \n",
      "==================================================================================================\n",
      "Total params: 38,964,545\n",
      "Trainable params: 38,964,545\n",
      "Non-trainable params: 0\n",
      "__________________________________________________________________________________________________\n"
     ]
    }
   ],
   "source": [
    "# View model summary\n",
    "siamese_model.summary()"
   ]
  },
  {
   "cell_type": "code",
   "execution_count": 70,
   "id": "92405eda",
   "metadata": {},
   "outputs": [
    {
     "data": {
      "text/plain": [
       "['Potato_Late_blight100.jpg',\n",
       " 'Potato_Late_blight101.jpg',\n",
       " 'Potato_Late_blight102.jpg',\n",
       " 'Potato_Late_blight103.jpg',\n",
       " 'Potato_Late_blight104.jpg',\n",
       " 'Potato_Late_blight105.jpg',\n",
       " 'Potato_Late_blight106.jpg',\n",
       " 'Potato_Late_blight33.jpg',\n",
       " 'Potato_Late_blight34.jpg',\n",
       " 'Potato_Late_blight35.jpg',\n",
       " 'Potato_Late_blight36.jpg',\n",
       " 'Potato_Late_blight37.jpg',\n",
       " 'Potato_Late_blight38.jpg',\n",
       " 'Potato_Late_blight39.jpg',\n",
       " 'Potato_Late_blight40.jpg',\n",
       " 'Potato_Late_blight41.jpg',\n",
       " 'Potato_Late_blight42.jpg',\n",
       " 'Potato_Late_blight49.jpg',\n",
       " 'Potato_Late_blight50.jpg',\n",
       " 'Potato_Late_blight51.jpg',\n",
       " 'Potato_Late_blight52.jpg',\n",
       " 'Potato_Late_blight53.jpg',\n",
       " 'Potato_Late_blight54.jpg',\n",
       " 'Potato_Late_blight55.jpg',\n",
       " 'Potato_Late_blight56.jpg',\n",
       " 'Potato_Late_blight57.jpg',\n",
       " 'Potato_Late_blight58.jpg',\n",
       " 'Potato_Late_blight65.jpg',\n",
       " 'Potato_Late_blight66.jpg',\n",
       " 'Potato_Late_blight67.jpg',\n",
       " 'Potato_Late_blight68.jpg',\n",
       " 'Potato_Late_blight69.jpg',\n",
       " 'Potato_Late_blight70.jpg',\n",
       " 'Potato_Late_blight71.jpg',\n",
       " 'Potato_Late_blight72.jpg',\n",
       " 'Potato_Late_blight73.jpg',\n",
       " 'Potato_Late_blight74.jpg',\n",
       " 'Potato_Late_blight81.jpg',\n",
       " 'Potato_Late_blight82.jpg',\n",
       " 'Potato_Late_blight83.jpg',\n",
       " 'Potato_Late_blight84.jpg',\n",
       " 'Potato_Late_blight85.jpg',\n",
       " 'Potato_Late_blight86.jpg',\n",
       " 'Potato_Late_blight87.jpg',\n",
       " 'Potato_Late_blight88.jpg',\n",
       " 'Potato_Late_blight89.jpg',\n",
       " 'Potato_Late_blight90.jpg',\n",
       " 'Potato_Late_blight97.jpg',\n",
       " 'Potato_Late_blight98.jpg',\n",
       " 'Potato_Late_blight99.jpg']"
      ]
     },
     "execution_count": 70,
     "metadata": {},
     "output_type": "execute_result"
    }
   ],
   "source": [
    "os.listdir(os.path.join('application_data', 'verification_images'))\n"
   ]
  },
  {
   "cell_type": "code",
   "execution_count": 71,
   "id": "6b402796",
   "metadata": {},
   "outputs": [
    {
     "data": {
      "text/plain": [
       "'application_data\\\\input_image\\\\input_image.jpg'"
      ]
     },
     "execution_count": 71,
     "metadata": {},
     "output_type": "execute_result"
    }
   ],
   "source": [
    "os.path.join('application_data', 'input_image', 'input_image.jpg')"
   ]
  },
  {
   "cell_type": "code",
   "execution_count": 72,
   "id": "1d0a3c21",
   "metadata": {},
   "outputs": [],
   "source": [
    "def verify(model, detection_threshold, verification_threshold):\n",
    "    # Build results array\n",
    "    results = []\n",
    "    for image in os.listdir(os.path.join('application_data', 'verification_images')):\n",
    "        input_img = preprocess(os.path.join('application_data', 'input_image', 'input_image.jpg'))\n",
    "        validation_img = preprocess(os.path.join('application_data', 'verification_images', image))\n",
    "        \n",
    "        # Make Predictions \n",
    "        result = model.predict(list(np.expand_dims([input_img, validation_img], axis=1)))\n",
    "        results.append(result)\n",
    "    \n",
    "    # Detection Threshold: Metric above which a prediciton is considered positive \n",
    "    detection = np.sum(np.array(results) > detection_threshold)\n",
    "    \n",
    "    # Verification Threshold: Proportion of positive predictions / total positive samples \n",
    "    verification = detection / len(os.listdir(os.path.join('application_data', 'verification_images'))) \n",
    "    verified = verification > verification_threshold\n",
    "    \n",
    "    return results, verified"
   ]
  },
  {
   "cell_type": "code",
   "execution_count": 73,
   "id": "40fb7aa9",
   "metadata": {},
   "outputs": [
    {
     "ename": "NameError",
     "evalue": "name 'results' is not defined",
     "output_type": "error",
     "traceback": [
      "\u001b[1;31m---------------------------------------------------------------------------\u001b[0m",
      "\u001b[1;31mNameError\u001b[0m                                 Traceback (most recent call last)",
      "\u001b[1;32m~\\AppData\\Local\\Temp\\ipykernel_18988\\1655025887.py\u001b[0m in \u001b[0;36m<module>\u001b[1;34m\u001b[0m\n\u001b[1;32m----> 1\u001b[1;33m \u001b[0mnp\u001b[0m\u001b[1;33m.\u001b[0m\u001b[0msum\u001b[0m\u001b[1;33m(\u001b[0m\u001b[0mnp\u001b[0m\u001b[1;33m.\u001b[0m\u001b[0msqueeze\u001b[0m\u001b[1;33m(\u001b[0m\u001b[0mresults\u001b[0m\u001b[1;33m)\u001b[0m \u001b[1;33m>\u001b[0m \u001b[1;36m0.5\u001b[0m\u001b[1;33m)\u001b[0m\u001b[1;33m\u001b[0m\u001b[1;33m\u001b[0m\u001b[0m\n\u001b[0m",
      "\u001b[1;31mNameError\u001b[0m: name 'results' is not defined"
     ]
    }
   ],
   "source": [
    "np.sum(np.squeeze(results) > 0.5)"
   ]
  },
  {
   "cell_type": "code",
   "execution_count": null,
   "id": "84b7a69d",
   "metadata": {},
   "outputs": [],
   "source": []
  },
  {
   "cell_type": "code",
   "execution_count": 76,
   "id": "3d613649",
   "metadata": {},
   "outputs": [
    {
     "name": "stdout",
     "output_type": "stream",
     "text": [
      "False\n",
      "True\n"
     ]
    }
   ],
   "source": [
    "cap = cv2.VideoCapture(0)\n",
    "while cap.isOpened():\n",
    "    ret, frame = cap.read()\n",
    "    frame = frame[120:120+250,200:200+250, :]\n",
    "    \n",
    "    cv2.imshow('Verification', frame)\n",
    "    \n",
    "    # Verification trigger\n",
    "    if cv2.waitKey(10) & 0xFF == ord('v'):\n",
    "        # Save input image to application_data/input_image folder \n",
    "#         hsv = cv2.cvtColor(frame, cv2.COLOR_BGR2HSV)\n",
    "#         h, s, v = cv2.split(hsv)\n",
    "\n",
    "#         lim = 255 - 10\n",
    "#         v[v > lim] = 255\n",
    "#         v[v <= lim] -= 10\n",
    "        \n",
    "#         final_hsv = cv2.merge((h, s, v))\n",
    "#         img = cv2.cvtColor(final_hsv, cv2.COLOR_HSV2BGR)\n",
    "\n",
    "        cv2.imwrite(os.path.join('application_data', 'input_image', 'input_image.jpg'), frame)\n",
    "        # Run verification\n",
    "        results, verified = verify(siamese_model, 0.6, 0.5)\n",
    "        print(verified)\n",
    "    \n",
    "    if cv2.waitKey(10) & 0xFF == ord('q'):\n",
    "        break\n",
    "cap.release()\n",
    "cv2.destroyAllWindows()"
   ]
  },
  {
   "cell_type": "code",
   "execution_count": null,
   "id": "52b8032f",
   "metadata": {},
   "outputs": [],
   "source": []
  }
 ],
 "metadata": {
  "kernelspec": {
   "display_name": "Python 3 (ipykernel)",
   "language": "python",
   "name": "python3"
  },
  "language_info": {
   "codemirror_mode": {
    "name": "ipython",
    "version": 3
   },
   "file_extension": ".py",
   "mimetype": "text/x-python",
   "name": "python",
   "nbconvert_exporter": "python",
   "pygments_lexer": "ipython3",
   "version": "3.9.13"
  }
 },
 "nbformat": 4,
 "nbformat_minor": 5
}
